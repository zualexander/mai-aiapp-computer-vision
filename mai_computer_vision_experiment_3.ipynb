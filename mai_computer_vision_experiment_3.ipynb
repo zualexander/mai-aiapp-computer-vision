{
  "cells": [
    {
      "cell_type": "markdown",
      "metadata": {
        "id": "view-in-github",
        "colab_type": "text"
      },
      "source": [
        "<a href=\"https://colab.research.google.com/github/zualexander/mai-aiapp-computer-vision/blob/main/mai_computer_vision_experiment_3.ipynb\" target=\"_parent\"><img src=\"https://colab.research.google.com/assets/colab-badge.svg\" alt=\"Open In Colab\"/></a>"
      ]
    },
    {
      "cell_type": "code",
      "execution_count": 7,
      "metadata": {
        "id": "Zm2jaIvte4ON",
        "colab": {
          "base_uri": "https://localhost:8080/"
        },
        "outputId": "3242fac1-62f1-4711-e8c0-24e37a19da00"
      },
      "outputs": [
        {
          "output_type": "stream",
          "name": "stdout",
          "text": [
            "Looking in indexes: https://pypi.org/simple, https://us-python.pkg.dev/colab-wheels/public/simple/\n",
            "Collecting split-folders\n",
            "  Downloading split_folders-0.5.1-py3-none-any.whl (8.4 kB)\n",
            "Installing collected packages: split-folders\n",
            "Successfully installed split-folders-0.5.1\n"
          ]
        }
      ],
      "source": [
        "!pip install split-folders"
      ]
    },
    {
      "cell_type": "code",
      "execution_count": 8,
      "metadata": {
        "id": "PKtRMoeikP40"
      },
      "outputs": [],
      "source": [
        "from tensorflow.keras.layers import (BatchNormalization, Dense, Dropout, Activation, Flatten, Conv2D, MaxPooling2D, SeparableConv2D)\n",
        "from tensorflow.keras.regularizers import l2\n",
        "from tensorflow.keras.optimizers import (SGD, RMSprop)\n",
        "from tensorflow.keras.utils import to_categorical\n",
        "from tensorflow.keras.utils import plot_model\n",
        "from tensorflow.keras.layers import Input, GlobalAveragePooling2D\n",
        "from tensorflow.keras import models\n",
        "from tensorflow.keras.models import Model\n",
        "import tarfile\n",
        "import os\n",
        "import splitfolders\n",
        "from tensorflow import keras\n",
        "import numpy as np\n",
        "import pandas as pd\n",
        "import matplotlib.pyplot as plt\n",
        "#import tensorflow as tf\n",
        "import seaborn as sns\n",
        "from sklearn.metrics import classification_report, confusion_matrix"
      ]
    },
    {
      "cell_type": "markdown",
      "metadata": {
        "id": "OsiipT29r--r"
      },
      "source": [
        "#variables"
      ]
    },
    {
      "cell_type": "code",
      "execution_count": 9,
      "metadata": {
        "id": "xfXdlUGssA0Z"
      },
      "outputs": [],
      "source": [
        "batch_size = 32\n",
        "epochs = 50\n",
        "img_size = 256\n",
        "train_data_path = '/tmp/dataset/output/train/'\n",
        "val_data_path = '/tmp/dataset/output/val/'"
      ]
    },
    {
      "cell_type": "markdown",
      "metadata": {
        "id": "CfWKuQCkBqYO"
      },
      "source": [
        "#Functions"
      ]
    },
    {
      "cell_type": "code",
      "execution_count": 1,
      "metadata": {
        "id": "pPt87ZTnBosU"
      },
      "outputs": [],
      "source": [
        "#https://machinelearningmastery.com/display-deep-learning-model-training-history-in-keras/\n",
        "def plot_accuracy_and_loss(history):\n",
        "\n",
        "  # summarize history for accuracy\n",
        "  plt.plot(history.history['acc'])\n",
        "  plt.plot(history.history['val_acc'])\n",
        "  plt.title('model accuracy')\n",
        "  plt.ylabel('accuracy')\n",
        "  plt.xlabel('epoch')\n",
        "  plt.legend(['train', 'test'], loc='upper left')\n",
        "  plt.show()\n",
        "  # summarize history for loss\n",
        "  plt.plot(history.history['loss'])\n",
        "  plt.plot(history.history['val_loss'])\n",
        "  plt.title('model loss')\n",
        "  plt.ylabel('loss')\n",
        "  plt.xlabel('epoch')\n",
        "  plt.legend(['train', 'test'], loc='upper left')\n",
        "  plt.show()"
      ]
    },
    {
      "cell_type": "markdown",
      "metadata": {
        "id": "_un2k4KjkaJh"
      },
      "source": [
        "# Download Dataset\n",
        "from [howto](https://towardsdatascience.com/an-informative-colab-guide-to-load-image-datasets-from-github-kaggle-and-local-machine-75cae89ffa1e)"
      ]
    },
    {
      "cell_type": "code",
      "execution_count": 5,
      "metadata": {
        "colab": {
          "base_uri": "https://localhost:8080/"
        },
        "id": "kVYbndVtkZc6",
        "outputId": "9d963293-3c24-4565-f596-13cc79b82abd"
      },
      "outputs": [
        {
          "output_type": "stream",
          "name": "stdout",
          "text": [
            "--2022-05-29 19:43:31--  http://aisdatasets.informatik.uni-freiburg.de/freiburg_groceries_dataset/freiburg_groceries_dataset.tar.gz\n",
            "Resolving aisdatasets.informatik.uni-freiburg.de (aisdatasets.informatik.uni-freiburg.de)... 132.230.105.132\n",
            "Connecting to aisdatasets.informatik.uni-freiburg.de (aisdatasets.informatik.uni-freiburg.de)|132.230.105.132|:80... connected.\n",
            "HTTP request sent, awaiting response... 200 OK\n",
            "Length: 541562880 (516M) [application/x-gzip]\n",
            "Saving to: ‘/tmp/dataset.tar.gz’\n",
            "\n",
            "/tmp/dataset.tar.gz 100%[===================>] 516.47M  19.4MB/s    in 27s     \n",
            "\n",
            "2022-05-29 19:43:58 (19.4 MB/s) - ‘/tmp/dataset.tar.gz’ saved [541562880/541562880]\n",
            "\n"
          ]
        }
      ],
      "source": [
        "!wget --no-check-certificate \\\n",
        "    \"\"http://aisdatasets.informatik.uni-freiburg.de/freiburg_groceries_dataset/freiburg_groceries_dataset.tar.gz\"\" \\\n",
        "    -O \"/tmp/dataset.tar.gz\""
      ]
    },
    {
      "cell_type": "code",
      "source": [
        "from google.colab import drive\n",
        "drive.mount('/content/drive')"
      ],
      "metadata": {
        "id": "LRIjVz6CVVC-",
        "outputId": "1abb92ae-ea27-4b7e-c569-7311b79b9b0b",
        "colab": {
          "base_uri": "https://localhost:8080/"
        }
      },
      "execution_count": 3,
      "outputs": [
        {
          "output_type": "stream",
          "name": "stdout",
          "text": [
            "Mounted at /content/drive\n"
          ]
        }
      ]
    },
    {
      "cell_type": "code",
      "execution_count": 6,
      "metadata": {
        "id": "iF36oM1iHjPi",
        "colab": {
          "base_uri": "https://localhost:8080/"
        },
        "outputId": "15457b57-a612-46a6-d1b0-85884261b21b"
      },
      "outputs": [
        {
          "output_type": "stream",
          "name": "stdout",
          "text": [
            "mkdir: cannot create directory ‘/tmp/dataset’: File exists\n"
          ]
        }
      ],
      "source": [
        "!mkdir /tmp/dataset \n",
        "!tar xf /tmp/dataset.tar.gz --directory=/tmp/dataset"
      ]
    },
    {
      "cell_type": "markdown",
      "metadata": {
        "id": "ByAWhvyHKFa2"
      },
      "source": [
        "# Datasplit"
      ]
    },
    {
      "cell_type": "code",
      "execution_count": 10,
      "metadata": {
        "colab": {
          "base_uri": "https://localhost:8080/"
        },
        "id": "I_XP6AjoOPg4",
        "outputId": "7ab17345-cd68-426d-b204-e37c9f623387"
      },
      "outputs": [
        {
          "output_type": "stream",
          "name": "stderr",
          "text": [
            "Copying files: 4947 files [00:01, 2772.87 files/s]\n"
          ]
        }
      ],
      "source": [
        "splitfolders.ratio(\"/tmp/dataset/images\", output=\"/tmp/dataset/output\",\n",
        "    seed=1337, ratio=(.75, .25), group_prefix=None, move=False)"
      ]
    },
    {
      "cell_type": "code",
      "execution_count": 11,
      "metadata": {
        "colab": {
          "base_uri": "https://localhost:8080/"
        },
        "id": "fr1ce8agNuZF",
        "outputId": "98b49cdc-eabc-4803-8316-4bd3a777e700"
      },
      "outputs": [
        {
          "output_type": "stream",
          "name": "stdout",
          "text": [
            "\u001b[0m\u001b[01;34mBEANS\u001b[0m/   \u001b[01;34mCHIPS\u001b[0m/      \u001b[01;34mFISH\u001b[0m/   \u001b[01;34mJUICE\u001b[0m/  \u001b[01;34mPASTA\u001b[0m/   \u001b[01;34mSUGAR\u001b[0m/         \u001b[01;34mWATER\u001b[0m/\n",
            "\u001b[01;34mCAKE\u001b[0m/    \u001b[01;34mCHOCOLATE\u001b[0m/  \u001b[01;34mFLOUR\u001b[0m/  \u001b[01;34mMILK\u001b[0m/   \u001b[01;34mRICE\u001b[0m/    \u001b[01;34mTEA\u001b[0m/\n",
            "\u001b[01;34mCANDY\u001b[0m/   \u001b[01;34mCOFFEE\u001b[0m/     \u001b[01;34mHONEY\u001b[0m/  \u001b[01;34mNUTS\u001b[0m/   \u001b[01;34mSODA\u001b[0m/    \u001b[01;34mTOMATO_SAUCE\u001b[0m/\n",
            "\u001b[01;34mCEREAL\u001b[0m/  \u001b[01;34mCORN\u001b[0m/       \u001b[01;34mJAM\u001b[0m/    \u001b[01;34mOIL\u001b[0m/    \u001b[01;34mSPICES\u001b[0m/  \u001b[01;34mVINEGAR\u001b[0m/\n"
          ]
        }
      ],
      "source": [
        "ls /tmp/dataset/output/train"
      ]
    },
    {
      "cell_type": "code",
      "execution_count": 12,
      "metadata": {
        "colab": {
          "base_uri": "https://localhost:8080/"
        },
        "id": "zKdJGGwVPQL0",
        "outputId": "42251112-d577-45ca-d710-c7f0b5ca0e0c"
      },
      "outputs": [
        {
          "output_type": "stream",
          "name": "stdout",
          "text": [
            "Found 3699 files belonging to 25 classes.\n",
            "Found 1248 files belonging to 25 classes.\n"
          ]
        }
      ],
      "source": [
        "train = keras.utils.image_dataset_from_directory(\n",
        "    directory=train_data_path,\n",
        "    labels='inferred',\n",
        "    label_mode='categorical',\n",
        "    crop_to_aspect_ratio=True,\n",
        "    batch_size=batch_size,\n",
        "    image_size=(img_size, img_size))\n",
        "\n",
        "validation = keras.utils.image_dataset_from_directory(\n",
        "    directory=val_data_path,\n",
        "    labels='inferred',\n",
        "    label_mode='categorical',\n",
        "    crop_to_aspect_ratio=True,\n",
        "    batch_size=batch_size,\n",
        "    image_size=(img_size, img_size))\n"
      ]
    },
    {
      "cell_type": "code",
      "execution_count": 18,
      "metadata": {
        "colab": {
          "base_uri": "https://localhost:8080/"
        },
        "id": "LbA0bsB8SkXX",
        "outputId": "3a6b9623-a2bc-4ed2-df39-fc4796a8741a"
      },
      "outputs": [
        {
          "output_type": "stream",
          "name": "stdout",
          "text": [
            "25\n"
          ]
        }
      ],
      "source": [
        "print(len(train.class_names))\n",
        "classes=train.class_names"
      ]
    },
    {
      "cell_type": "markdown",
      "metadata": {
        "id": "8fRpuWQ6rs75"
      },
      "source": [
        "## data generator"
      ]
    },
    {
      "cell_type": "code",
      "execution_count": 13,
      "metadata": {
        "id": "RHfLFKiVrvVk"
      },
      "outputs": [],
      "source": [
        "train_datagen = keras.preprocessing.image.ImageDataGenerator(                      \n",
        "    rotation_range=90,\n",
        "    width_shift_range = 0.2,\n",
        "    height_shift_range = 0.2,\n",
        "    zoom_range=0.2\n",
        "    )"
      ]
    },
    {
      "cell_type": "code",
      "source": [
        "val_datagen = keras.preprocessing.image.ImageDataGenerator()"
      ],
      "metadata": {
        "id": "Wel6KXdlCYqV"
      },
      "execution_count": 14,
      "outputs": []
    },
    {
      "cell_type": "code",
      "execution_count": 15,
      "metadata": {
        "colab": {
          "base_uri": "https://localhost:8080/"
        },
        "id": "0cFK5bwBr45S",
        "outputId": "37d4e40e-91fe-497f-9ea4-fa294c823881"
      },
      "outputs": [
        {
          "output_type": "stream",
          "name": "stdout",
          "text": [
            "Found 3699 images belonging to 25 classes.\n"
          ]
        }
      ],
      "source": [
        "train_generator = train_datagen.flow_from_directory(train_data_path,\n",
        "                                                    target_size=(img_size, img_size),\n",
        "                                                    batch_size=batch_size,\n",
        "                                                    class_mode='categorical')"
      ]
    },
    {
      "cell_type": "code",
      "execution_count": 16,
      "metadata": {
        "colab": {
          "base_uri": "https://localhost:8080/"
        },
        "id": "2RRWwWU4r4-w",
        "outputId": "7fdc5239-dc80-4061-92d1-2cf60004ba45"
      },
      "outputs": [
        {
          "output_type": "stream",
          "name": "stdout",
          "text": [
            "Found 1248 images belonging to 25 classes.\n"
          ]
        }
      ],
      "source": [
        "val_generator = val_datagen.flow_from_directory(val_data_path,\n",
        "                                                    target_size=(img_size, img_size),\n",
        "                                                    batch_size=batch_size,\n",
        "                                                    class_mode='categorical')"
      ]
    },
    {
      "cell_type": "markdown",
      "metadata": {
        "id": "zM8z2f_VS5D-"
      },
      "source": [
        "#ResNet Model"
      ]
    },
    {
      "cell_type": "code",
      "execution_count": 19,
      "metadata": {
        "id": "_38nmjPVUqpL",
        "colab": {
          "base_uri": "https://localhost:8080/"
        },
        "outputId": "dba96db1-3aa7-42c8-f5b4-29de340f4d8f"
      },
      "outputs": [
        {
          "output_type": "stream",
          "name": "stdout",
          "text": [
            "Downloading data from https://storage.googleapis.com/tensorflow/keras-applications/resnet/resnet50_weights_tf_dim_ordering_tf_kernels_notop.h5\n",
            "94773248/94765736 [==============================] - 0s 0us/step\n",
            "94781440/94765736 [==============================] - 0s 0us/step\n"
          ]
        }
      ],
      "source": [
        "resnet_model = keras.applications.ResNet50(\n",
        "    include_top=False,\n",
        "    weights=\"imagenet\",\n",
        "    input_tensor=None,\n",
        "    input_shape=(img_size, img_size, 3),\n",
        "    pooling=None,\n",
        "    classes=len(classes)\n",
        ") "
      ]
    },
    {
      "cell_type": "code",
      "execution_count": null,
      "metadata": {
        "id": "4jNeSxwMg9BO"
      },
      "outputs": [],
      "source": [
        "resnet_model.summary()"
      ]
    },
    {
      "cell_type": "code",
      "execution_count": 17,
      "metadata": {
        "colab": {
          "base_uri": "https://localhost:8080/"
        },
        "id": "p7Otdsf6h-l2",
        "outputId": "4f5c5351-564c-4771-a362-dc84f91af78f"
      },
      "outputs": [
        {
          "output_type": "execute_result",
          "data": {
            "text/plain": [
              "23587712"
            ]
          },
          "metadata": {},
          "execution_count": 17
        }
      ],
      "source": [
        "resnet_model.count_params()"
      ]
    },
    {
      "cell_type": "markdown",
      "source": [
        "#Inception Model"
      ],
      "metadata": {
        "id": "tNclV54_PPgZ"
      }
    },
    {
      "cell_type": "code",
      "source": [
        "classes = np.unique(train)\n",
        "nClasses = len(classes)"
      ],
      "metadata": {
        "id": "k_T8icLqPPJd"
      },
      "execution_count": 20,
      "outputs": []
    },
    {
      "cell_type": "markdown",
      "source": [
        "First inception layer:"
      ],
      "metadata": {
        "id": "-jwKw_2Bbtde"
      }
    },
    {
      "cell_type": "code",
      "source": [
        "# input_img = Input(shape=(img_size, img_size, 1))\n",
        "\n",
        "ind = 0\n",
        "for layer in resnet_model.layers[:-1]:\n",
        "  ind += 1\n",
        "  if layer.name == 'conv3_block4_out':\n",
        "    break\n",
        "\n",
        "x = resnet_model.layers[ind].output\n",
        "\n",
        "layer_1 = Conv2D(10, (1,1), padding='valid', activation='relu')(x)#(input_img)\n",
        "layer_1 = Conv2D(10, (3,3), padding='same', activation='relu')(layer_1)\n",
        "\n",
        "layer_2 = Conv2D(10, (1,1), padding='same', activation='relu')(x)\n",
        "layer_2 = Conv2D(10, (5,5), padding='same', activation='relu')(layer_2)\n",
        "\n",
        "layer_3 = MaxPooling2D((3,3), strides=(1,1), padding='same')(x)\n",
        "layer_3 = Conv2D(10, (1,1), padding='same', activation='relu')(layer_3)\n",
        "\n",
        "mid_1 = keras.layers.concatenate([layer_1, layer_2, layer_3], axis = 3)"
      ],
      "metadata": {
        "id": "N7tpUj2eU5Os"
      },
      "execution_count": 22,
      "outputs": []
    },
    {
      "cell_type": "markdown",
      "source": [
        "Add dense layers:"
      ],
      "metadata": {
        "id": "ODcxtqDHb_8s"
      }
    },
    {
      "cell_type": "code",
      "source": [
        "flat_1 = Flatten()(mid_1)\n",
        "\n",
        "dense_1 = Dense(300, activation='relu')(flat_1)\n",
        "dense_2 = Dense(150, activation='relu')(dense_1)\n",
        "dense_3 = Dense(75, activation='relu')(dense_2)\n",
        "output = Dense(nClasses, activation='softmax')(dense_3)"
      ],
      "metadata": {
        "id": "mnQfBRx9bwKT"
      },
      "execution_count": 23,
      "outputs": []
    },
    {
      "cell_type": "code",
      "source": [
        "model_inception = Model([x], output)"
      ],
      "metadata": {
        "id": "fwWWnlUJbrmt"
      },
      "execution_count": 28,
      "outputs": []
    },
    {
      "cell_type": "code",
      "source": [
        "plot_model(model_inception, to_file='model.png', show_shapes=True, show_layer_names=True)"
      ],
      "metadata": {
        "id": "aXvNhrSpcz50",
        "colab": {
          "base_uri": "https://localhost:8080/",
          "height": 955
        },
        "outputId": "6080cd6b-a6e1-41bb-b1b8-7a2c1f7be102"
      },
      "execution_count": 41,
      "outputs": [
        {
          "output_type": "execute_result",
          "data": {
            "text/plain": [
              "<IPython.core.display.Image object>"
            ],
            "image/png": "[encoded data removed]"
          },
          "metadata": {},
          "execution_count": 41
        }
      ]
    },
    {
      "cell_type": "markdown",
      "source": [
        "Getting output of ResNet50 layer conv3_block4_out:"
      ],
      "metadata": {
        "id": "x_CJrsyu2oNt"
      }
    },
    {
      "cell_type": "code",
      "execution_count": 42,
      "metadata": {
        "id": "4OrGaEsrhRQp"
      },
      "outputs": [],
      "source": [
        "model = keras.models.Sequential()\n",
        "\n",
        "for layer in model_inception.layers:\n",
        "  layer.trainable=False"
      ]
    },
    {
      "cell_type": "code",
      "source": [
        "model.add(model_inception)"
      ],
      "metadata": {
        "id": "KAxU_WVgqME3"
      },
      "execution_count": 43,
      "outputs": []
    },
    {
      "cell_type": "code",
      "execution_count": 36,
      "metadata": {
        "id": "krbuWcHZS4JW"
      },
      "outputs": [],
      "source": [
        "model.add(keras.layers.Flatten())\n",
        "model.add(keras.layers.Dense(512, activation='relu'))\n",
        "model.add(keras.layers.Dense(len(classes), activation='softmax'))"
      ]
    },
    {
      "cell_type": "code",
      "execution_count": 37,
      "metadata": {
        "colab": {
          "base_uri": "https://localhost:8080/"
        },
        "id": "-VuviVyqVUMr",
        "outputId": "38896c6d-bb76-458b-d611-7bfbe663e375"
      },
      "outputs": [
        {
          "output_type": "stream",
          "name": "stdout",
          "text": [
            "Model: \"sequential_1\"\n",
            "_________________________________________________________________\n",
            " Layer (type)                Output Shape              Param #   \n",
            "=================================================================\n",
            " model_2 (Functional)        (None, 1)                 2371981   \n",
            "                                                                 \n",
            " flatten_2 (Flatten)         (None, 1)                 0         \n",
            "                                                                 \n",
            " dense_6 (Dense)             (None, 512)               1024      \n",
            "                                                                 \n",
            " dense_7 (Dense)             (None, 1)                 513       \n",
            "                                                                 \n",
            "=================================================================\n",
            "Total params: 2,373,518\n",
            "Trainable params: 1,537\n",
            "Non-trainable params: 2,371,981\n",
            "_________________________________________________________________\n"
          ]
        }
      ],
      "source": [
        "model.summary()"
      ]
    },
    {
      "cell_type": "code",
      "execution_count": 38,
      "metadata": {
        "colab": {
          "base_uri": "https://localhost:8080/"
        },
        "id": "X6UZCmDZiD4L",
        "outputId": "03b744fd-a7fe-4b40-f49d-794eaec46106"
      },
      "outputs": [
        {
          "output_type": "execute_result",
          "data": {
            "text/plain": [
              "2373518"
            ]
          },
          "metadata": {},
          "execution_count": 38
        }
      ],
      "source": [
        "model.count_params()"
      ]
    },
    {
      "cell_type": "code",
      "execution_count": 39,
      "metadata": {
        "id": "L0zAmLceEhtK"
      },
      "outputs": [],
      "source": [
        "#compile model\n",
        "model.compile(\n",
        "  optimizer=keras.optimizers.Adam(),\n",
        "  loss='categorical_crossentropy',\n",
        "  metrics=['acc'])"
      ]
    },
    {
      "cell_type": "code",
      "execution_count": 40,
      "metadata": {
        "colab": {
          "base_uri": "https://localhost:8080/",
          "height": 533
        },
        "id": "26hgCYK1HBwT",
        "outputId": "9802aba1-0934-4edf-c60e-1ddcc4b0a5e0"
      },
      "outputs": [
        {
          "output_type": "execute_result",
          "data": {
            "text/plain": [
              "<IPython.core.display.Image object>"
            ],
            "image/png": "[encoded data removed]"
          },
          "metadata": {},
          "execution_count": 40
        }
      ],
      "source": [
        "keras.utils.plot_model(model,show_shapes=True)"
      ]
    },
    {
      "cell_type": "code",
      "execution_count": null,
      "metadata": {
        "colab": {
          "base_uri": "https://localhost:8080/"
        },
        "id": "bbc17pA-ZO7H",
        "outputId": "8c092413-7505-4d2f-d902-48c4d8dbf79b"
      },
      "outputs": [
        {
          "output_type": "stream",
          "name": "stdout",
          "text": [
            "Epoch 1/50\n",
            "116/116 [==============================] - 1154s 10s/step - loss: 15.7453 - acc: 0.1052 - val_loss: 2.9305 - val_acc: 0.1186\n",
            "Epoch 2/50\n",
            "116/116 [==============================] - 1125s 10s/step - loss: 2.8731 - acc: 0.1817 - val_loss: 2.7654 - val_acc: 0.2196\n",
            "Epoch 3/50\n",
            "116/116 [==============================] - 1120s 10s/step - loss: 2.7783 - acc: 0.2130 - val_loss: 2.5668 - val_acc: 0.2604\n",
            "Epoch 4/50\n"
          ]
        }
      ],
      "source": [
        "hist = model.fit(train_generator, validation_data=val_generator, epochs=epochs)"
      ]
    },
    {
      "cell_type": "markdown",
      "metadata": {
        "id": "ICR2wOFOCGU6"
      },
      "source": [
        "#Model evaluation"
      ]
    },
    {
      "cell_type": "markdown",
      "metadata": {
        "id": "hKpXKy-xCKdB"
      },
      "source": [
        "##trainigs history"
      ]
    },
    {
      "cell_type": "code",
      "execution_count": null,
      "metadata": {
        "id": "ps0qAc7Qfw0U"
      },
      "outputs": [],
      "source": [
        "print (\"test accuracy \", hist.history['acc'][-1])"
      ]
    },
    {
      "cell_type": "markdown",
      "metadata": {
        "id": "-bIn2m-_gjsI"
      },
      "source": [
        "#validation history"
      ]
    },
    {
      "cell_type": "code",
      "execution_count": null,
      "metadata": {
        "id": "ObgsLehPf73x"
      },
      "outputs": [],
      "source": [
        "print (\"validation accuracy \", hist.history['val_acc'][-1])"
      ]
    },
    {
      "cell_type": "markdown",
      "metadata": {
        "id": "y7ONXeI8gp8w"
      },
      "source": [
        "#accuracy and loss plot"
      ]
    },
    {
      "cell_type": "code",
      "execution_count": null,
      "metadata": {
        "id": "jbiShHjjFsgx"
      },
      "outputs": [],
      "source": [
        "print(hist.history.keys())\n",
        "plot_accuracy_and_loss(hist)"
      ]
    },
    {
      "cell_type": "markdown",
      "metadata": {
        "id": "GFSgMxQ7iVEC"
      },
      "source": [
        "#Confusion matrix"
      ]
    },
    {
      "cell_type": "code",
      "execution_count": null,
      "metadata": {
        "id": "zbYhtBspiWP5"
      },
      "outputs": [],
      "source": [
        "Y_pred = model.predict_generator(val_generator)\n",
        "y_pred = np.argmax(Y_pred, axis=1)\n",
        "con_mat = confusion_matrix(val_generator.classes, y_pred)\n",
        "print('Confusion Matrix')\n",
        "print(con_mat)\n",
        "print('Classification Report')\n",
        "print(classification_report(val_generator.classes, y_pred, target_names=classes))"
      ]
    },
    {
      "cell_type": "code",
      "execution_count": null,
      "metadata": {
        "id": "4s8tfCy4klcB"
      },
      "outputs": [],
      "source": [
        "## plot"
      ]
    },
    {
      "cell_type": "code",
      "execution_count": null,
      "metadata": {
        "id": "MdNBK1H3leL7"
      },
      "outputs": [],
      "source": [
        "sns.set_theme(style='darkgrid')"
      ]
    },
    {
      "cell_type": "code",
      "execution_count": null,
      "metadata": {
        "id": "hSzocfQ6kmw3"
      },
      "outputs": [],
      "source": [
        "figure = plt.figure(figsize=(8, 8))\n",
        "sns.heatmap(con_mat, annot=True,cmap=plt.cm.Dark2)\n",
        "plt.tight_layout()\n",
        "plt.ylabel('True label')\n",
        "plt.xlabel('Predicted label')\n",
        "plt.show()"
      ]
    },
    {
      "cell_type": "code",
      "execution_count": null,
      "metadata": {
        "id": "cstg1F3Ukni7"
      },
      "outputs": [],
      "source": [
        ""
      ]
    }
  ],
  "metadata": {
    "accelerator": "GPU",
    "colab": {
      "collapsed_sections": [],
      "name": "mai-computer-vision-experiment-2.ipynb",
      "provenance": [],
      "include_colab_link": true
    },
    "kernelspec": {
      "display_name": "Python 3",
      "name": "python3"
    },
    "language_info": {
      "name": "python"
    }
  },
  "nbformat": 4,
  "nbformat_minor": 0
}