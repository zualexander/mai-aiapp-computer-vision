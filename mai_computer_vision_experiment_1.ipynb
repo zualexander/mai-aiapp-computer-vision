{
  "cells": [
    {
      "cell_type": "markdown",
      "metadata": {
        "id": "view-in-github",
        "colab_type": "text"
      },
      "source": [
        "<a href=\"https://colab.research.google.com/github/zualexander/mai-aiapp-computer-vision/blob/main/mai_computer_vision_experiment_1.ipynb\" target=\"_parent\"><img src=\"https://colab.research.google.com/assets/colab-badge.svg\" alt=\"Open In Colab\"/></a>"
      ]
    },
    {
      "cell_type": "code",
      "execution_count": null,
      "metadata": {
        "colab": {
          "base_uri": "https://localhost:8080/"
        },
        "id": "Zm2jaIvte4ON",
        "outputId": "8262f955-02eb-4543-b819-5c518bb63445"
      },
      "outputs": [
        {
          "output_type": "stream",
          "name": "stdout",
          "text": [
            "Looking in indexes: https://pypi.org/simple, https://us-python.pkg.dev/colab-wheels/public/simple/\n",
            "Collecting split-folders\n",
            "  Downloading split_folders-0.5.1-py3-none-any.whl (8.4 kB)\n",
            "Installing collected packages: split-folders\n",
            "Successfully installed split-folders-0.5.1\n"
          ]
        }
      ],
      "source": [
        "!pip install split-folders"
      ]
    },
    {
      "cell_type": "code",
      "execution_count": null,
      "metadata": {
        "id": "PKtRMoeikP40"
      },
      "outputs": [],
      "source": [
        "import tarfile\n",
        "import os\n",
        "import splitfolders\n",
        "from tensorflow import keras\n",
        "import numpy as np\n",
        "import matplotlib.pyplot as plt"
      ]
    },
    {
      "cell_type": "markdown",
      "source": [
        "#Functions"
      ],
      "metadata": {
        "id": "CfWKuQCkBqYO"
      }
    },
    {
      "cell_type": "code",
      "source": [
        "#https://machinelearningmastery.com/display-deep-learning-model-training-history-in-keras/\n",
        "def plot_accuracy_and_loss(history):\n",
        "\n",
        "  # summarize history for accuracy\n",
        "  plt.plot(history.history['acc'])\n",
        "  plt.plot(history.history['val_acc'])\n",
        "  plt.title('model accuracy')\n",
        "  plt.ylabel('accuracy')\n",
        "  plt.xlabel('epoch')\n",
        "  plt.legend(['train', 'test'], loc='upper left')\n",
        "  plt.show()\n",
        "  # summarize history for loss\n",
        "  plt.plot(history.history['loss'])\n",
        "  plt.plot(history.history['val_loss'])\n",
        "  plt.title('model loss')\n",
        "  plt.ylabel('loss')\n",
        "  plt.xlabel('epoch')\n",
        "  plt.legend(['train', 'test'], loc='upper left')\n",
        "  plt.show()"
      ],
      "metadata": {
        "id": "pPt87ZTnBosU"
      },
      "execution_count": null,
      "outputs": []
    },
    {
      "cell_type": "markdown",
      "metadata": {
        "id": "_un2k4KjkaJh"
      },
      "source": [
        "# Download Dataset\n",
        "from [howto](https://towardsdatascience.com/an-informative-colab-guide-to-load-image-datasets-from-github-kaggle-and-local-machine-75cae89ffa1e)"
      ]
    },
    {
      "cell_type": "code",
      "execution_count": null,
      "metadata": {
        "colab": {
          "base_uri": "https://localhost:8080/"
        },
        "id": "kVYbndVtkZc6",
        "outputId": "391555d6-b89d-4bec-a421-7480db8806a9"
      },
      "outputs": [
        {
          "output_type": "stream",
          "name": "stdout",
          "text": [
            "--2022-05-25 19:50:19--  http://aisdatasets.informatik.uni-freiburg.de/freiburg_groceries_dataset/freiburg_groceries_dataset.tar.gz\n",
            "Resolving aisdatasets.informatik.uni-freiburg.de (aisdatasets.informatik.uni-freiburg.de)... 132.230.105.132\n",
            "Connecting to aisdatasets.informatik.uni-freiburg.de (aisdatasets.informatik.uni-freiburg.de)|132.230.105.132|:80... connected.\n",
            "HTTP request sent, awaiting response... 200 OK\n",
            "Length: 541562880 (516M) [application/x-gzip]\n",
            "Saving to: ‘/tmp/dataset.tar.gz’\n",
            "\n",
            "/tmp/dataset.tar.gz 100%[===================>] 516.47M  14.8MB/s    in 37s     \n",
            "\n",
            "2022-05-25 19:50:57 (13.9 MB/s) - ‘/tmp/dataset.tar.gz’ saved [541562880/541562880]\n",
            "\n"
          ]
        }
      ],
      "source": [
        "!wget --no-check-certificate \\\n",
        "    \"\"http://aisdatasets.informatik.uni-freiburg.de/freiburg_groceries_dataset/freiburg_groceries_dataset.tar.gz\"\" \\\n",
        "    -O \"/tmp/dataset.tar.gz\""
      ]
    },
    {
      "cell_type": "code",
      "execution_count": null,
      "metadata": {
        "id": "iF36oM1iHjPi"
      },
      "outputs": [],
      "source": [
        "!mkdir /tmp/dataset \n",
        "!tar xf /tmp/dataset.tar.gz --directory=/tmp/dataset"
      ]
    },
    {
      "cell_type": "markdown",
      "metadata": {
        "id": "ByAWhvyHKFa2"
      },
      "source": [
        "# Datasplit"
      ]
    },
    {
      "cell_type": "code",
      "execution_count": null,
      "metadata": {
        "colab": {
          "base_uri": "https://localhost:8080/"
        },
        "id": "I_XP6AjoOPg4",
        "outputId": "709e1289-484a-4ad1-ad21-6932adc606cb"
      },
      "outputs": [
        {
          "output_type": "stream",
          "name": "stderr",
          "text": [
            "Copying files: 4947 files [00:02, 2422.99 files/s]\n"
          ]
        }
      ],
      "source": [
        "splitfolders.ratio(\"/tmp/dataset/images\", output=\"/tmp/dataset/output\",\n",
        "    seed=1337, ratio=(.75, .25), group_prefix=None, move=False)"
      ]
    },
    {
      "cell_type": "code",
      "execution_count": null,
      "metadata": {
        "colab": {
          "base_uri": "https://localhost:8080/"
        },
        "id": "fr1ce8agNuZF",
        "outputId": "4abee2d6-a9eb-4969-81d9-566c80f50f62"
      },
      "outputs": [
        {
          "output_type": "stream",
          "name": "stdout",
          "text": [
            "\u001b[0m\u001b[01;34mBEANS\u001b[0m/   \u001b[01;34mCHIPS\u001b[0m/      \u001b[01;34mFISH\u001b[0m/   \u001b[01;34mJUICE\u001b[0m/  \u001b[01;34mPASTA\u001b[0m/   \u001b[01;34mSUGAR\u001b[0m/         \u001b[01;34mWATER\u001b[0m/\n",
            "\u001b[01;34mCAKE\u001b[0m/    \u001b[01;34mCHOCOLATE\u001b[0m/  \u001b[01;34mFLOUR\u001b[0m/  \u001b[01;34mMILK\u001b[0m/   \u001b[01;34mRICE\u001b[0m/    \u001b[01;34mTEA\u001b[0m/\n",
            "\u001b[01;34mCANDY\u001b[0m/   \u001b[01;34mCOFFEE\u001b[0m/     \u001b[01;34mHONEY\u001b[0m/  \u001b[01;34mNUTS\u001b[0m/   \u001b[01;34mSODA\u001b[0m/    \u001b[01;34mTOMATO_SAUCE\u001b[0m/\n",
            "\u001b[01;34mCEREAL\u001b[0m/  \u001b[01;34mCORN\u001b[0m/       \u001b[01;34mJAM\u001b[0m/    \u001b[01;34mOIL\u001b[0m/    \u001b[01;34mSPICES\u001b[0m/  \u001b[01;34mVINEGAR\u001b[0m/\n"
          ]
        }
      ],
      "source": [
        "ls /tmp/dataset/output/train"
      ]
    },
    {
      "cell_type": "code",
      "execution_count": null,
      "metadata": {
        "colab": {
          "base_uri": "https://localhost:8080/"
        },
        "id": "zKdJGGwVPQL0",
        "outputId": "9f70e08d-a83c-4f42-e976-27a4783ee0cb"
      },
      "outputs": [
        {
          "output_type": "stream",
          "name": "stdout",
          "text": [
            "Found 3699 files belonging to 25 classes.\n",
            "Found 1248 files belonging to 25 classes.\n"
          ]
        }
      ],
      "source": [
        "train = keras.utils.image_dataset_from_directory(\n",
        "    directory='/tmp/dataset/output/train/',\n",
        "    labels='inferred',\n",
        "    label_mode='categorical',\n",
        "    crop_to_aspect_ratio=True,\n",
        "    batch_size=32,\n",
        "    image_size=(256, 256))\n",
        "\n",
        "validation = keras.utils.image_dataset_from_directory(\n",
        "    directory='/tmp/dataset/output/val/',\n",
        "    labels='inferred',\n",
        "    label_mode='categorical',\n",
        "    crop_to_aspect_ratio=True,\n",
        "    batch_size=32,\n",
        "    image_size=(256, 256))\n"
      ]
    },
    {
      "cell_type": "code",
      "execution_count": null,
      "metadata": {
        "colab": {
          "base_uri": "https://localhost:8080/"
        },
        "id": "LbA0bsB8SkXX",
        "outputId": "77ce4f38-9445-4a06-a047-0a4769eb8f49"
      },
      "outputs": [
        {
          "output_type": "stream",
          "name": "stdout",
          "text": [
            "25\n"
          ]
        }
      ],
      "source": [
        "print(len(train.class_names))"
      ]
    },
    {
      "cell_type": "markdown",
      "metadata": {
        "id": "zM8z2f_VS5D-"
      },
      "source": [
        "# Model"
      ]
    },
    {
      "cell_type": "code",
      "execution_count": null,
      "metadata": {
        "colab": {
          "base_uri": "https://localhost:8080/"
        },
        "id": "_38nmjPVUqpL",
        "outputId": "438ab063-3ead-4038-bd29-d93757368cba"
      },
      "outputs": [
        {
          "output_type": "stream",
          "name": "stdout",
          "text": [
            "Downloading data from https://storage.googleapis.com/tensorflow/keras-applications/resnet/resnet50_weights_tf_dim_ordering_tf_kernels_notop.h5\n",
            "94773248/94765736 [==============================] - 1s 0us/step\n",
            "94781440/94765736 [==============================] - 1s 0us/step\n"
          ]
        }
      ],
      "source": [
        "resnet_model = keras.applications.ResNet50(\n",
        "    include_top=False,\n",
        "    weights=\"imagenet\",\n",
        "    input_tensor=None,\n",
        "    input_shape=(256, 256, 3),\n",
        "    pooling=None,\n",
        "    classes=len(train.class_names)\n",
        ") "
      ]
    },
    {
      "cell_type": "code",
      "execution_count": null,
      "metadata": {
        "id": "4OrGaEsrhRQp"
      },
      "outputs": [],
      "source": [
        "model = keras.models.Sequential()\n",
        "\n",
        "for layer in resnet_model.layers:\n",
        "        layer.trainable=False\n",
        "\n",
        "model.add(resnet_model)"
      ]
    },
    {
      "cell_type": "code",
      "execution_count": null,
      "metadata": {
        "id": "krbuWcHZS4JW"
      },
      "outputs": [],
      "source": [
        "model.add(keras.layers.Flatten())\n",
        "model.add(keras.layers.Dense(512, activation='relu'))\n",
        "model.add(keras.layers.Dense(len(train.class_names), activation='softmax'))"
      ]
    },
    {
      "cell_type": "code",
      "execution_count": null,
      "metadata": {
        "colab": {
          "base_uri": "https://localhost:8080/"
        },
        "id": "-VuviVyqVUMr",
        "outputId": "ccb3a36b-e461-4ef3-cb28-733f61701e3b"
      },
      "outputs": [
        {
          "output_type": "stream",
          "name": "stdout",
          "text": [
            "Model: \"sequential\"\n",
            "_________________________________________________________________\n",
            " Layer (type)                Output Shape              Param #   \n",
            "=================================================================\n",
            " resnet50 (Functional)       (None, 8, 8, 2048)        23587712  \n",
            "                                                                 \n",
            " flatten (Flatten)           (None, 131072)            0         \n",
            "                                                                 \n",
            " dense (Dense)               (None, 512)               67109376  \n",
            "                                                                 \n",
            " dense_1 (Dense)             (None, 25)                12825     \n",
            "                                                                 \n",
            "=================================================================\n",
            "Total params: 90,709,913\n",
            "Trainable params: 67,122,201\n",
            "Non-trainable params: 23,587,712\n",
            "_________________________________________________________________\n"
          ]
        }
      ],
      "source": [
        "model.summary()"
      ]
    },
    {
      "cell_type": "code",
      "execution_count": null,
      "metadata": {
        "id": "L0zAmLceEhtK"
      },
      "outputs": [],
      "source": [
        "#compile model\n",
        "model.compile(\n",
        "  optimizer=keras.optimizers.Adam(),\n",
        "  loss='categorical_crossentropy',\n",
        "  metrics=['acc'])"
      ]
    },
    {
      "cell_type": "code",
      "execution_count": null,
      "metadata": {
        "colab": {
          "base_uri": "https://localhost:8080/",
          "height": 533
        },
        "id": "26hgCYK1HBwT",
        "outputId": "27aca4a7-1db1-4147-fe2e-73a4b45c3f02"
      },
      "outputs": [
        {
          "output_type": "execute_result",
          "data": {
            "text/plain": [
              "<IPython.core.display.Image object>"
            ],
            "image/png": "[encoded data removed]"
          },
          "metadata": {},
          "execution_count": 15
        }
      ],
      "source": [
        "keras.utils.plot_model(model,show_shapes=True)"
      ]
    },
    {
      "cell_type": "code",
      "execution_count": null,
      "metadata": {
        "colab": {
          "base_uri": "https://localhost:8080/"
        },
        "id": "bbc17pA-ZO7H",
        "outputId": "30b98a9c-a53e-431e-f2aa-61300f004f62"
      },
      "outputs": [
        {
          "output_type": "stream",
          "name": "stdout",
          "text": [
            "Epoch 1/20\n",
            "116/116 [==============================] - 32s 151ms/step - loss: 14.6454 - acc: 0.3474\n",
            "Epoch 2/20\n",
            "116/116 [==============================] - 17s 144ms/step - loss: 0.8692 - acc: 0.7497\n",
            "Epoch 3/20\n",
            "116/116 [==============================] - 18s 148ms/step - loss: 0.3503 - acc: 0.8967\n",
            "Epoch 4/20\n",
            "116/116 [==============================] - 18s 146ms/step - loss: 0.1291 - acc: 0.9589\n",
            "Epoch 5/20\n",
            "116/116 [==============================] - 18s 151ms/step - loss: 0.0497 - acc: 0.9862\n",
            "Epoch 6/20\n",
            "116/116 [==============================] - 18s 145ms/step - loss: 0.0189 - acc: 0.9962\n",
            "Epoch 7/20\n",
            "116/116 [==============================] - 18s 146ms/step - loss: 0.0131 - acc: 0.9973\n",
            "Epoch 8/20\n",
            "116/116 [==============================] - 18s 146ms/step - loss: 0.0045 - acc: 0.9992\n",
            "Epoch 9/20\n",
            "116/116 [==============================] - 18s 146ms/step - loss: 0.0017 - acc: 1.0000\n",
            "Epoch 10/20\n",
            "116/116 [==============================] - 18s 147ms/step - loss: 3.5528e-04 - acc: 1.0000\n",
            "Epoch 11/20\n",
            "116/116 [==============================] - 18s 145ms/step - loss: 2.4534e-04 - acc: 1.0000\n",
            "Epoch 12/20\n",
            "116/116 [==============================] - 18s 146ms/step - loss: 2.0733e-04 - acc: 1.0000\n",
            "Epoch 13/20\n",
            "116/116 [==============================] - 18s 146ms/step - loss: 1.8004e-04 - acc: 1.0000\n",
            "Epoch 14/20\n",
            "116/116 [==============================] - 18s 146ms/step - loss: 1.5876e-04 - acc: 1.0000\n",
            "Epoch 15/20\n",
            "116/116 [==============================] - 18s 146ms/step - loss: 1.4159e-04 - acc: 1.0000\n",
            "Epoch 16/20\n",
            "116/116 [==============================] - 18s 146ms/step - loss: 1.2715e-04 - acc: 1.0000\n",
            "Epoch 17/20\n",
            "116/116 [==============================] - 18s 146ms/step - loss: 1.1483e-04 - acc: 1.0000\n",
            "Epoch 18/20\n",
            "116/116 [==============================] - 18s 146ms/step - loss: 1.0422e-04 - acc: 1.0000\n",
            "Epoch 19/20\n",
            "116/116 [==============================] - 18s 146ms/step - loss: 9.4951e-05 - acc: 1.0000\n",
            "Epoch 20/20\n",
            "116/116 [==============================] - 18s 146ms/step - loss: 8.6880e-05 - acc: 1.0000\n"
          ]
        }
      ],
      "source": [
        "hist = model.fit(train, validation_data=validation, epochs=20)"
      ]
    },
    {
      "cell_type": "markdown",
      "source": [
        "#Model evaluation"
      ],
      "metadata": {
        "id": "ICR2wOFOCGU6"
      }
    },
    {
      "cell_type": "markdown",
      "source": [
        "## validation scoring"
      ],
      "metadata": {
        "id": "Xxnxsg-DCNpb"
      }
    },
    {
      "cell_type": "code",
      "source": [
        "#evaluate on unseen data\n",
        "score = model.evaluate(validation, verbose=0)"
      ],
      "metadata": {
        "id": "Z6G5pK3C_IYm"
      },
      "execution_count": null,
      "outputs": []
    },
    {
      "cell_type": "code",
      "source": [
        "print('Test accuracy:', score[1])"
      ],
      "metadata": {
        "colab": {
          "base_uri": "https://localhost:8080/"
        },
        "id": "zELq3RCrBN3E",
        "outputId": "bd68556b-9e99-46c5-b610-46e0eee061a8"
      },
      "execution_count": null,
      "outputs": [
        {
          "output_type": "stream",
          "name": "stdout",
          "text": [
            "Test accuracy: 0.6955128312110901\n"
          ]
        }
      ]
    },
    {
      "cell_type": "code",
      "source": [
        "print('Test loss:', score[0])"
      ],
      "metadata": {
        "colab": {
          "base_uri": "https://localhost:8080/"
        },
        "id": "vXLueZjxBLU2",
        "outputId": "d864ab25-8965-467f-b8be-0fa5cb198b5a"
      },
      "execution_count": null,
      "outputs": [
        {
          "output_type": "stream",
          "name": "stdout",
          "text": [
            "Test loss: 1.862662434577942\n"
          ]
        }
      ]
    },
    {
      "cell_type": "markdown",
      "source": [
        "##trainigs history"
      ],
      "metadata": {
        "id": "hKpXKy-xCKdB"
      }
    },
    {
      "cell_type": "code",
      "execution_count": null,
      "metadata": {
        "id": "jbiShHjjFsgx",
        "colab": {
          "base_uri": "https://localhost:8080/",
          "height": 590
        },
        "outputId": "0003500a-a612-4c67-fcd7-19b883acadfb"
      },
      "outputs": [
        {
          "output_type": "stream",
          "name": "stdout",
          "text": [
            "dict_keys(['loss', 'acc'])\n"
          ]
        },
        {
          "output_type": "display_data",
          "data": {
            "text/plain": [
              "<Figure size 432x288 with 1 Axes>"
            ],
            "image/png": "[encoded data removed]"
          },
          "metadata": {
            "needs_background": "light"
          }
        },
        {
          "output_type": "display_data",
          "data": {
            "text/plain": [
              "<Figure size 432x288 with 1 Axes>"
            ],
            "image/png": "[encoded data removed]"
          },
          "metadata": {
            "needs_background": "light"
          }
        }
      ],
      "source": [
        "print(hist.history.keys())\n",
        "plot_accuracy_and_loss(hist)"
      ]
    }
  ],
  "metadata": {
    "accelerator": "GPU",
    "colab": {
      "collapsed_sections": [],
      "name": "mai-computer-vision-experiment-1.ipynb",
      "provenance": [],
      "authorship_tag": "ABX9TyPIURrEPEPue7qT6su8x2ni",
      "include_colab_link": true
    },
    "kernelspec": {
      "display_name": "Python 3",
      "name": "python3"
    },
    "language_info": {
      "name": "python"
    }
  },
  "nbformat": 4,
  "nbformat_minor": 0
}