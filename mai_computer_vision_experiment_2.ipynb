{
  "cells": [
    {
      "cell_type": "markdown",
      "metadata": {
        "id": "view-in-github",
        "colab_type": "text"
      },
      "source": [
        "<a href=\"https://colab.research.google.com/github/zualexander/mai-aiapp-computer-vision/blob/main/mai_computer_vision_experiment_2.ipynb\" target=\"_parent\"><img src=\"https://colab.research.google.com/assets/colab-badge.svg\" alt=\"Open In Colab\"/></a>"
      ]
    },
    {
      "cell_type": "code",
      "execution_count": null,
      "metadata": {
        "colab": {
          "base_uri": "https://localhost:8080/"
        },
        "id": "Zm2jaIvte4ON",
        "outputId": "dc083da7-a2c9-46f0-df96-75479950814c"
      },
      "outputs": [
        {
          "output_type": "stream",
          "name": "stdout",
          "text": [
            "Looking in indexes: https://pypi.org/simple, https://us-python.pkg.dev/colab-wheels/public/simple/\n",
            "Collecting split-folders\n",
            "  Downloading split_folders-0.5.1-py3-none-any.whl (8.4 kB)\n",
            "Installing collected packages: split-folders\n",
            "Successfully installed split-folders-0.5.1\n"
          ]
        }
      ],
      "source": [
        "!pip install split-folders"
      ]
    },
    {
      "cell_type": "code",
      "execution_count": null,
      "metadata": {
        "id": "PKtRMoeikP40"
      },
      "outputs": [],
      "source": [
        "import tarfile\n",
        "import os\n",
        "import splitfolders\n",
        "from tensorflow import keras\n",
        "import numpy as np\n",
        "import matplotlib.pyplot as plt"
      ]
    },
    {
      "cell_type": "markdown",
      "source": [
        "#Functions"
      ],
      "metadata": {
        "id": "CfWKuQCkBqYO"
      }
    },
    {
      "cell_type": "code",
      "source": [
        "#https://machinelearningmastery.com/display-deep-learning-model-training-history-in-keras/\n",
        "def plot_accuracy_and_loss(history):\n",
        "\n",
        "  # summarize history for accuracy\n",
        "  plt.plot(history.history['acc'])\n",
        "  plt.plot(history.history['val_acc'])\n",
        "  plt.title('model accuracy')\n",
        "  plt.ylabel('accuracy')\n",
        "  plt.xlabel('epoch')\n",
        "  plt.legend(['train', 'test'], loc='upper left')\n",
        "  plt.show()\n",
        "  # summarize history for loss\n",
        "  plt.plot(history.history['loss'])\n",
        "  plt.plot(history.history['val_loss'])\n",
        "  plt.title('model loss')\n",
        "  plt.ylabel('loss')\n",
        "  plt.xlabel('epoch')\n",
        "  plt.legend(['train', 'test'], loc='upper left')\n",
        "  plt.show()"
      ],
      "metadata": {
        "id": "pPt87ZTnBosU"
      },
      "execution_count": null,
      "outputs": []
    },
    {
      "cell_type": "markdown",
      "metadata": {
        "id": "_un2k4KjkaJh"
      },
      "source": [
        "# Download Dataset\n",
        "from [howto](https://towardsdatascience.com/an-informative-colab-guide-to-load-image-datasets-from-github-kaggle-and-local-machine-75cae89ffa1e)"
      ]
    },
    {
      "cell_type": "code",
      "execution_count": null,
      "metadata": {
        "colab": {
          "base_uri": "https://localhost:8080/"
        },
        "id": "kVYbndVtkZc6",
        "outputId": "b86a5c4e-2c52-4854-c591-5ae8429e3b8d"
      },
      "outputs": [
        {
          "output_type": "stream",
          "name": "stdout",
          "text": [
            "--2022-05-25 21:14:48--  http://aisdatasets.informatik.uni-freiburg.de/freiburg_groceries_dataset/freiburg_groceries_dataset.tar.gz\n",
            "Resolving aisdatasets.informatik.uni-freiburg.de (aisdatasets.informatik.uni-freiburg.de)... 132.230.105.132\n",
            "Connecting to aisdatasets.informatik.uni-freiburg.de (aisdatasets.informatik.uni-freiburg.de)|132.230.105.132|:80... connected.\n",
            "HTTP request sent, awaiting response... 200 OK\n",
            "Length: 541562880 (516M) [application/x-gzip]\n",
            "Saving to: ‘/tmp/dataset.tar.gz’\n",
            "\n",
            "/tmp/dataset.tar.gz 100%[===================>] 516.47M  31.2MB/s    in 17s     \n",
            "\n",
            "2022-05-25 21:15:06 (30.1 MB/s) - ‘/tmp/dataset.tar.gz’ saved [541562880/541562880]\n",
            "\n"
          ]
        }
      ],
      "source": [
        "!wget --no-check-certificate \\\n",
        "    \"\"http://aisdatasets.informatik.uni-freiburg.de/freiburg_groceries_dataset/freiburg_groceries_dataset.tar.gz\"\" \\\n",
        "    -O \"/tmp/dataset.tar.gz\""
      ]
    },
    {
      "cell_type": "code",
      "execution_count": null,
      "metadata": {
        "id": "iF36oM1iHjPi"
      },
      "outputs": [],
      "source": [
        "!mkdir /tmp/dataset \n",
        "!tar xf /tmp/dataset.tar.gz --directory=/tmp/dataset"
      ]
    },
    {
      "cell_type": "markdown",
      "metadata": {
        "id": "ByAWhvyHKFa2"
      },
      "source": [
        "# Datasplit"
      ]
    },
    {
      "cell_type": "code",
      "execution_count": null,
      "metadata": {
        "colab": {
          "base_uri": "https://localhost:8080/"
        },
        "id": "I_XP6AjoOPg4",
        "outputId": "587d4513-84f9-4d09-e819-4f46b028119c"
      },
      "outputs": [
        {
          "output_type": "stream",
          "name": "stderr",
          "text": [
            "Copying files: 4947 files [00:01, 2490.91 files/s]\n"
          ]
        }
      ],
      "source": [
        "splitfolders.ratio(\"/tmp/dataset/images\", output=\"/tmp/dataset/output\",\n",
        "    seed=1337, ratio=(.75, .25), group_prefix=None, move=False)"
      ]
    },
    {
      "cell_type": "code",
      "execution_count": null,
      "metadata": {
        "colab": {
          "base_uri": "https://localhost:8080/"
        },
        "id": "fr1ce8agNuZF",
        "outputId": "4c4379df-be4b-45ae-85db-788b8d58a5e1"
      },
      "outputs": [
        {
          "output_type": "stream",
          "name": "stdout",
          "text": [
            "\u001b[0m\u001b[01;34mBEANS\u001b[0m/   \u001b[01;34mCHIPS\u001b[0m/      \u001b[01;34mFISH\u001b[0m/   \u001b[01;34mJUICE\u001b[0m/  \u001b[01;34mPASTA\u001b[0m/   \u001b[01;34mSUGAR\u001b[0m/         \u001b[01;34mWATER\u001b[0m/\n",
            "\u001b[01;34mCAKE\u001b[0m/    \u001b[01;34mCHOCOLATE\u001b[0m/  \u001b[01;34mFLOUR\u001b[0m/  \u001b[01;34mMILK\u001b[0m/   \u001b[01;34mRICE\u001b[0m/    \u001b[01;34mTEA\u001b[0m/\n",
            "\u001b[01;34mCANDY\u001b[0m/   \u001b[01;34mCOFFEE\u001b[0m/     \u001b[01;34mHONEY\u001b[0m/  \u001b[01;34mNUTS\u001b[0m/   \u001b[01;34mSODA\u001b[0m/    \u001b[01;34mTOMATO_SAUCE\u001b[0m/\n",
            "\u001b[01;34mCEREAL\u001b[0m/  \u001b[01;34mCORN\u001b[0m/       \u001b[01;34mJAM\u001b[0m/    \u001b[01;34mOIL\u001b[0m/    \u001b[01;34mSPICES\u001b[0m/  \u001b[01;34mVINEGAR\u001b[0m/\n"
          ]
        }
      ],
      "source": [
        "ls /tmp/dataset/output/train"
      ]
    },
    {
      "cell_type": "code",
      "source": [
        "train = keras.utils.image_dataset_from_directory(\n",
        "    directory='/tmp/dataset/output/train/',\n",
        "    labels='inferred',\n",
        "    label_mode='categorical',\n",
        "    crop_to_aspect_ratio=True,\n",
        "    batch_size=32,\n",
        "    image_size=(256, 256))\n",
        "\n",
        "validation = keras.utils.image_dataset_from_directory(\n",
        "    directory='/tmp/dataset/output/val/',\n",
        "    labels='inferred',\n",
        "    label_mode='categorical',\n",
        "    crop_to_aspect_ratio=True,\n",
        "    batch_size=32,\n",
        "    image_size=(256, 256))"
      ],
      "metadata": {
        "id": "z72EpguaEFXc"
      },
      "execution_count": null,
      "outputs": []
    },
    {
      "cell_type": "markdown",
      "metadata": {
        "id": "zM8z2f_VS5D-"
      },
      "source": [
        "# Model"
      ]
    },
    {
      "cell_type": "code",
      "execution_count": null,
      "metadata": {
        "id": "_38nmjPVUqpL",
        "colab": {
          "base_uri": "https://localhost:8080/"
        },
        "outputId": "68c3ab3f-4b85-4112-db58-54b3fba4fa98"
      },
      "outputs": [
        {
          "output_type": "stream",
          "name": "stdout",
          "text": [
            "Downloading data from https://storage.googleapis.com/tensorflow/keras-applications/resnet/resnet50_weights_tf_dim_ordering_tf_kernels_notop.h5\n",
            "94773248/94765736 [==============================] - 0s 0us/step\n",
            "94781440/94765736 [==============================] - 0s 0us/step\n"
          ]
        }
      ],
      "source": [
        "resnet_model = keras.applications.ResNet50(\n",
        "    include_top=False,\n",
        "    weights=\"imagenet\",\n",
        "    input_tensor=None,\n",
        "    input_shape=(256, 256, 3),\n",
        "    pooling=None,\n",
        "    classes=len(train.class_names)\n",
        ") "
      ]
    },
    {
      "cell_type": "markdown",
      "source": [
        "##data augmentation layer"
      ],
      "metadata": {
        "id": "1zrsynw5t0Ok"
      }
    },
    {
      "cell_type": "markdown",
      "source": [
        "## model reconstruction"
      ],
      "metadata": {
        "id": "pLxv17BMt4sE"
      }
    },
    {
      "cell_type": "code",
      "source": [
        "model = keras.models.Sequential()"
      ],
      "metadata": {
        "id": "gFILqKg-8I0I"
      },
      "execution_count": null,
      "outputs": []
    },
    {
      "cell_type": "code",
      "execution_count": null,
      "metadata": {
        "id": "4OrGaEsrhRQp"
      },
      "outputs": [],
      "source": [
        "#FREEZE HERE\n",
        "#for layer in resnet_model.layers:\n",
        "#        layer.trainable=False\n",
        "\n",
        "model.add(resnet_model)"
      ]
    },
    {
      "cell_type": "code",
      "execution_count": null,
      "metadata": {
        "id": "krbuWcHZS4JW"
      },
      "outputs": [],
      "source": [
        "model.add(keras.layers.Flatten())\n",
        "model.add(keras.layers.Dense(512, activation='relu'))\n",
        "model.add(keras.layers.Dense(len(train.class_names), activation='softmax'))"
      ]
    },
    {
      "cell_type": "code",
      "execution_count": null,
      "metadata": {
        "id": "L0zAmLceEhtK"
      },
      "outputs": [],
      "source": [
        "#compile model\n",
        "model.compile(\n",
        "  optimizer=keras.optimizers.Adam(),\n",
        "  loss='categorical_crossentropy',\n",
        "  metrics=['acc'])"
      ]
    },
    {
      "cell_type": "code",
      "execution_count": null,
      "metadata": {
        "colab": {
          "base_uri": "https://localhost:8080/",
          "height": 533
        },
        "id": "26hgCYK1HBwT",
        "outputId": "3864c4e4-ea72-4eff-dd0d-6b4d584c8c8b"
      },
      "outputs": [
        {
          "output_type": "execute_result",
          "data": {
            "text/plain": [
              "<IPython.core.display.Image object>"
            ],
            "image/png": "[encoded data removed]"
          },
          "metadata": {},
          "execution_count": 15
        }
      ],
      "source": [
        "keras.utils.plot_model(model,show_shapes=True)\n",
        "# !!!!!!!!!!!!!!!!!!!!!!!!!!!!! why not working? do I need to add input layers?"
      ]
    },
    {
      "cell_type": "code",
      "execution_count": null,
      "metadata": {
        "colab": {
          "base_uri": "https://localhost:8080/"
        },
        "id": "-VuviVyqVUMr",
        "outputId": "43e8ace9-9260-414f-d89f-1ae86a5d19b6"
      },
      "outputs": [
        {
          "output_type": "stream",
          "name": "stdout",
          "text": [
            "Model: \"sequential\"\n",
            "_________________________________________________________________\n",
            " Layer (type)                Output Shape              Param #   \n",
            "=================================================================\n",
            " resnet50 (Functional)       (None, 8, 8, 2048)        23587712  \n",
            "                                                                 \n",
            " flatten (Flatten)           (None, 131072)            0         \n",
            "                                                                 \n",
            " dense (Dense)               (None, 512)               67109376  \n",
            "                                                                 \n",
            " dense_1 (Dense)             (None, 25)                12825     \n",
            "                                                                 \n",
            "=================================================================\n",
            "Total params: 90,709,913\n",
            "Trainable params: 90,656,793\n",
            "Non-trainable params: 53,120\n",
            "_________________________________________________________________\n"
          ]
        }
      ],
      "source": [
        "model.summary()"
      ]
    },
    {
      "cell_type": "markdown",
      "source": [
        "# data augmentation"
      ],
      "metadata": {
        "id": "RGlMICkaD66b"
      }
    },
    {
      "cell_type": "code",
      "source": [
        "data_generator_with_aug = keras.preprocessing.image.ImageDataGenerator(\n",
        "                                   rotation_range=90,\n",
        "                                   width_shift_range = 0.2,\n",
        "                                   height_shift_range = 0.2,\n",
        "                                   zoom_range=[0.0, 0.5]\n",
        "                                   )"
      ],
      "metadata": {
        "id": "i5zbQHGHD9aY"
      },
      "execution_count": null,
      "outputs": []
    },
    {
      "cell_type": "code",
      "source": [
        "train_generator = data_generator_with_aug.flow_from_directory(\n",
        "        \"/tmp/dataset/output/train/\",\n",
        "        target_size=(256, 256),\n",
        "        class_mode='categorical',\n",
        "        batch_size=32\n",
        "        )"
      ],
      "metadata": {
        "colab": {
          "base_uri": "https://localhost:8080/"
        },
        "id": "2EIvl1SKFE8X",
        "outputId": "1d706623-f0da-4a20-c009-3c289779c8e1"
      },
      "execution_count": null,
      "outputs": [
        {
          "output_type": "stream",
          "name": "stdout",
          "text": [
            "Found 3699 images belonging to 25 classes.\n"
          ]
        }
      ]
    },
    {
      "cell_type": "code",
      "source": [
        "data_generator_no_aug =  keras.preprocessing.image.ImageDataGenerator()"
      ],
      "metadata": {
        "id": "MLmJspesFcp6"
      },
      "execution_count": null,
      "outputs": []
    },
    {
      "cell_type": "code",
      "source": [
        "validation_generator = data_generator_with_aug.flow_from_directory(\n",
        "    \"/tmp/dataset/output/val/\",\n",
        "    target_size=(256, 256),\n",
        "    class_mode='categorical'\n",
        "    )"
      ],
      "metadata": {
        "colab": {
          "base_uri": "https://localhost:8080/"
        },
        "id": "2A1hqERFFcyK",
        "outputId": "9de233fd-b7d7-41f0-a262-8f5a9fa39406"
      },
      "execution_count": null,
      "outputs": [
        {
          "output_type": "stream",
          "name": "stdout",
          "text": [
            "Found 1248 images belonging to 25 classes.\n"
          ]
        }
      ]
    },
    {
      "cell_type": "code",
      "execution_count": null,
      "metadata": {
        "colab": {
          "base_uri": "https://localhost:8080/"
        },
        "id": "bbc17pA-ZO7H",
        "outputId": "593c0827-6d5c-4dd0-e311-d67f701c495e"
      },
      "outputs": [
        {
          "output_type": "stream",
          "name": "stdout",
          "text": [
            "Epoch 1/20\n",
            "116/116 [==============================] - 97s 835ms/step - loss: 3.1537 - acc: 0.0892 - val_loss: 3.5893 - val_acc: 0.0745\n",
            "Epoch 2/20\n",
            "116/116 [==============================] - 94s 808ms/step - loss: 3.0525 - acc: 0.1076 - val_loss: 9.6286 - val_acc: 0.1178\n",
            "Epoch 3/20\n",
            "116/116 [==============================] - 95s 815ms/step - loss: 2.9789 - acc: 0.1363 - val_loss: 3.2094 - val_acc: 0.1170\n",
            "Epoch 4/20\n",
            "116/116 [==============================] - 95s 814ms/step - loss: 2.9615 - acc: 0.1346 - val_loss: 3.0701 - val_acc: 0.1274\n",
            "Epoch 5/20\n",
            "116/116 [==============================] - 94s 813ms/step - loss: 2.9507 - acc: 0.1422 - val_loss: 3.1903 - val_acc: 0.1258\n",
            "Epoch 6/20\n",
            "116/116 [==============================] - 94s 808ms/step - loss: 2.9522 - acc: 0.1417 - val_loss: 3.0747 - val_acc: 0.1458\n",
            "Epoch 7/20\n",
            "116/116 [==============================] - 94s 812ms/step - loss: 2.8978 - acc: 0.1509 - val_loss: 3.2624 - val_acc: 0.1442\n",
            "Epoch 8/20\n",
            "116/116 [==============================] - 94s 811ms/step - loss: 2.8764 - acc: 0.1519 - val_loss: 2.8875 - val_acc: 0.1474\n",
            "Epoch 9/20\n",
            "116/116 [==============================] - 94s 810ms/step - loss: 2.8770 - acc: 0.1625 - val_loss: 2.8890 - val_acc: 0.1474\n",
            "Epoch 10/20\n",
            "116/116 [==============================] - 94s 808ms/step - loss: 2.8490 - acc: 0.1703 - val_loss: 2.9774 - val_acc: 0.1362\n",
            "Epoch 11/20\n",
            "116/116 [==============================] - 93s 804ms/step - loss: 2.8600 - acc: 0.1557 - val_loss: 2.9369 - val_acc: 0.1490\n",
            "Epoch 12/20\n",
            "116/116 [==============================] - 93s 804ms/step - loss: 2.8412 - acc: 0.1557 - val_loss: 3.4845 - val_acc: 0.1498\n",
            "Epoch 13/20\n",
            "116/116 [==============================] - 93s 804ms/step - loss: 2.8433 - acc: 0.1571 - val_loss: 3.3403 - val_acc: 0.1611\n",
            "Epoch 14/20\n",
            "116/116 [==============================] - 93s 800ms/step - loss: 2.8164 - acc: 0.1649 - val_loss: 2.9603 - val_acc: 0.1474\n",
            "Epoch 15/20\n",
            "116/116 [==============================] - 93s 802ms/step - loss: 2.8444 - acc: 0.1609 - val_loss: 3.1458 - val_acc: 0.1426\n",
            "Epoch 16/20\n",
            "116/116 [==============================] - 94s 806ms/step - loss: 2.8954 - acc: 0.1538 - val_loss: 94.5233 - val_acc: 0.0513\n",
            "Epoch 17/20\n",
            "116/116 [==============================] - 93s 800ms/step - loss: 3.0160 - acc: 0.1322 - val_loss: 4.9152 - val_acc: 0.1082\n",
            "Epoch 18/20\n",
            "116/116 [==============================] - 93s 802ms/step - loss: 3.0063 - acc: 0.1284 - val_loss: 50.1888 - val_acc: 0.0921\n",
            "Epoch 19/20\n",
            "116/116 [==============================] - 94s 805ms/step - loss: 2.9797 - acc: 0.1268 - val_loss: 3.3168 - val_acc: 0.1090\n",
            "Epoch 20/20\n",
            "116/116 [==============================] - 93s 805ms/step - loss: 2.9741 - acc: 0.1395 - val_loss: 5.1259 - val_acc: 0.1186\n"
          ]
        }
      ],
      "source": [
        "hist = model.fit(\n",
        "        train_generator,\n",
        "        epochs=20,\n",
        "        validation_data=validation_generator\n",
        "        )"
      ]
    },
    {
      "cell_type": "markdown",
      "source": [
        "#Model evaluation"
      ],
      "metadata": {
        "id": "ICR2wOFOCGU6"
      }
    },
    {
      "cell_type": "markdown",
      "source": [
        "## validation scoring"
      ],
      "metadata": {
        "id": "Xxnxsg-DCNpb"
      }
    },
    {
      "cell_type": "code",
      "source": [
        "#evaluate on unseen data\n",
        "score = model.evaluate(validation, verbose=0)"
      ],
      "metadata": {
        "id": "Z6G5pK3C_IYm"
      },
      "execution_count": null,
      "outputs": []
    },
    {
      "cell_type": "code",
      "source": [
        "print('Test accuracy:', score[1])"
      ],
      "metadata": {
        "colab": {
          "base_uri": "https://localhost:8080/"
        },
        "id": "zELq3RCrBN3E",
        "outputId": "9936ae0b-a6e7-4fdb-bdc1-4a56433cec3f"
      },
      "execution_count": null,
      "outputs": [
        {
          "output_type": "stream",
          "name": "stdout",
          "text": [
            "Test accuracy: 0.11298076808452606\n"
          ]
        }
      ]
    },
    {
      "cell_type": "code",
      "source": [
        "print('Test loss:', score[0])"
      ],
      "metadata": {
        "colab": {
          "base_uri": "https://localhost:8080/"
        },
        "id": "vXLueZjxBLU2",
        "outputId": "5725d5c1-0ae9-42a3-c218-ef722aae49ad"
      },
      "execution_count": null,
      "outputs": [
        {
          "output_type": "stream",
          "name": "stdout",
          "text": [
            "Test loss: 3.671069860458374\n"
          ]
        }
      ]
    },
    {
      "cell_type": "markdown",
      "source": [
        "##trainigs history"
      ],
      "metadata": {
        "id": "hKpXKy-xCKdB"
      }
    },
    {
      "cell_type": "code",
      "execution_count": null,
      "metadata": {
        "id": "jbiShHjjFsgx",
        "colab": {
          "base_uri": "https://localhost:8080/",
          "height": 590
        },
        "outputId": "da34ce04-6053-40ec-a7e5-324e9d447f39"
      },
      "outputs": [
        {
          "output_type": "stream",
          "name": "stdout",
          "text": [
            "dict_keys(['loss', 'acc', 'val_loss', 'val_acc'])\n"
          ]
        },
        {
          "output_type": "display_data",
          "data": {
            "text/plain": [
              "<Figure size 432x288 with 1 Axes>"
            ],
            "image/png": "[encoded data removed]"
          },
          "metadata": {
            "needs_background": "light"
          }
        },
        {
          "output_type": "display_data",
          "data": {
            "text/plain": [
              "<Figure size 432x288 with 1 Axes>"
            ],
            "image/png": "[encoded data removed]"
          },
          "metadata": {
            "needs_background": "light"
          }
        }
      ],
      "source": [
        "print(hist.history.keys())\n",
        "plot_accuracy_and_loss(hist)"
      ]
    },
    {
      "cell_type": "code",
      "source": [
        ""
      ],
      "metadata": {
        "id": "6Fihp5-DwHyh"
      },
      "execution_count": null,
      "outputs": []
    }
  ],
  "metadata": {
    "accelerator": "GPU",
    "colab": {
      "collapsed_sections": [],
      "name": "mai-computer-vision-experiment-2.ipynb",
      "provenance": [],
      "authorship_tag": "ABX9TyOP08OKzyvuWrafiiNWTXtA",
      "include_colab_link": true
    },
    "kernelspec": {
      "display_name": "Python 3",
      "name": "python3"
    },
    "language_info": {
      "name": "python"
    }
  },
  "nbformat": 4,
  "nbformat_minor": 0
}