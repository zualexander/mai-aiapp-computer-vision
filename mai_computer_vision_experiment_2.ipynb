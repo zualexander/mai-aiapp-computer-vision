{
  "cells": [
    {
      "cell_type": "markdown",
      "metadata": {
        "id": "view-in-github",
        "colab_type": "text"
      },
      "source": [
        "<a href=\"https://colab.research.google.com/github/zualexander/mai-aiapp-computer-vision/blob/main/mai_computer_vision_experiment_2.ipynb\" target=\"_parent\"><img src=\"https://colab.research.google.com/assets/colab-badge.svg\" alt=\"Open In Colab\"/></a>"
      ]
    },
    {
      "cell_type": "code",
      "execution_count": 1,
      "metadata": {
        "colab": {
          "base_uri": "https://localhost:8080/"
        },
        "id": "Zm2jaIvte4ON",
        "outputId": "ef68c2a8-68ae-4250-c411-ade5798f475b"
      },
      "outputs": [
        {
          "output_type": "stream",
          "name": "stdout",
          "text": [
            "Looking in indexes: https://pypi.org/simple, https://us-python.pkg.dev/colab-wheels/public/simple/\n",
            "Collecting split-folders\n",
            "  Downloading split_folders-0.5.1-py3-none-any.whl (8.4 kB)\n",
            "Installing collected packages: split-folders\n",
            "Successfully installed split-folders-0.5.1\n"
          ]
        }
      ],
      "source": [
        "!pip install split-folders"
      ]
    },
    {
      "cell_type": "code",
      "execution_count": 2,
      "metadata": {
        "id": "PKtRMoeikP40"
      },
      "outputs": [],
      "source": [
        "import tarfile\n",
        "import os\n",
        "import splitfolders\n",
        "from tensorflow import keras\n",
        "import numpy as np\n",
        "import pandas as pd\n",
        "import matplotlib.pyplot as plt\n",
        "import tensorflow as tf\n",
        "import seaborn as sns\n",
        "from sklearn.metrics import classification_report, confusion_matrix"
      ]
    },
    {
      "cell_type": "markdown",
      "metadata": {
        "id": "OsiipT29r--r"
      },
      "source": [
        "#variables"
      ]
    },
    {
      "cell_type": "code",
      "execution_count": 3,
      "metadata": {
        "id": "xfXdlUGssA0Z"
      },
      "outputs": [],
      "source": [
        "batch_size = 32\n",
        "epochs = 50\n",
        "img_size = 256\n",
        "train_data_path = '/tmp/dataset/output/train/'\n",
        "val_data_path = '/tmp/dataset/output/val/'"
      ]
    },
    {
      "cell_type": "markdown",
      "metadata": {
        "id": "CfWKuQCkBqYO"
      },
      "source": [
        "#Functions"
      ]
    },
    {
      "cell_type": "code",
      "execution_count": 4,
      "metadata": {
        "id": "pPt87ZTnBosU"
      },
      "outputs": [],
      "source": [
        "#https://machinelearningmastery.com/display-deep-learning-model-training-history-in-keras/\n",
        "def plot_accuracy_and_loss(history):\n",
        "\n",
        "  # summarize history for accuracy\n",
        "  plt.plot(history.history['acc'])\n",
        "  plt.plot(history.history['val_acc'])\n",
        "  plt.title('model accuracy')\n",
        "  plt.ylabel('accuracy')\n",
        "  plt.xlabel('epoch')\n",
        "  plt.legend(['train', 'test'], loc='upper left')\n",
        "  plt.show()\n",
        "  # summarize history for loss\n",
        "  plt.plot(history.history['loss'])\n",
        "  plt.plot(history.history['val_loss'])\n",
        "  plt.title('model loss')\n",
        "  plt.ylabel('loss')\n",
        "  plt.xlabel('epoch')\n",
        "  plt.legend(['train', 'test'], loc='upper left')\n",
        "  plt.show()"
      ]
    },
    {
      "cell_type": "markdown",
      "metadata": {
        "id": "_un2k4KjkaJh"
      },
      "source": [
        "# Download Dataset\n",
        "from [howto](https://towardsdatascience.com/an-informative-colab-guide-to-load-image-datasets-from-github-kaggle-and-local-machine-75cae89ffa1e)"
      ]
    },
    {
      "cell_type": "code",
      "execution_count": 5,
      "metadata": {
        "colab": {
          "base_uri": "https://localhost:8080/"
        },
        "id": "kVYbndVtkZc6",
        "outputId": "3cc1f2e1-51ab-4b5a-ca7b-3799aa09b321"
      },
      "outputs": [
        {
          "output_type": "stream",
          "name": "stdout",
          "text": [
            "--2022-06-05 09:45:42--  http://aisdatasets.informatik.uni-freiburg.de/freiburg_groceries_dataset/freiburg_groceries_dataset.tar.gz\n",
            "Resolving aisdatasets.informatik.uni-freiburg.de (aisdatasets.informatik.uni-freiburg.de)... 132.230.105.132\n",
            "Connecting to aisdatasets.informatik.uni-freiburg.de (aisdatasets.informatik.uni-freiburg.de)|132.230.105.132|:80... connected.\n",
            "HTTP request sent, awaiting response... 200 OK\n",
            "Length: 541562880 (516M) [application/x-gzip]\n",
            "Saving to: ‘/tmp/dataset.tar.gz’\n",
            "\n",
            "/tmp/dataset.tar.gz 100%[===================>] 516.47M  20.1MB/s    in 28s     \n",
            "\n",
            "2022-06-05 09:46:11 (18.2 MB/s) - ‘/tmp/dataset.tar.gz’ saved [541562880/541562880]\n",
            "\n"
          ]
        }
      ],
      "source": [
        "!wget --no-check-certificate \\\n",
        "    \"\"http://aisdatasets.informatik.uni-freiburg.de/freiburg_groceries_dataset/freiburg_groceries_dataset.tar.gz\"\" \\\n",
        "    -O \"/tmp/dataset.tar.gz\""
      ]
    },
    {
      "cell_type": "code",
      "execution_count": 6,
      "metadata": {
        "id": "iF36oM1iHjPi"
      },
      "outputs": [],
      "source": [
        "!mkdir /tmp/dataset \n",
        "!tar xf /tmp/dataset.tar.gz --directory=/tmp/dataset"
      ]
    },
    {
      "cell_type": "markdown",
      "metadata": {
        "id": "ByAWhvyHKFa2"
      },
      "source": [
        "# Datasplit"
      ]
    },
    {
      "cell_type": "code",
      "execution_count": 7,
      "metadata": {
        "colab": {
          "base_uri": "https://localhost:8080/"
        },
        "id": "I_XP6AjoOPg4",
        "outputId": "d82d3f01-79aa-4320-fa41-868d365f4d11"
      },
      "outputs": [
        {
          "output_type": "stream",
          "name": "stderr",
          "text": [
            "Copying files: 4947 files [00:02, 2249.91 files/s]\n"
          ]
        }
      ],
      "source": [
        "splitfolders.ratio(\"/tmp/dataset/images\", output=\"/tmp/dataset/output\",\n",
        "    seed=1337, ratio=(.75, .25), group_prefix=None, move=False)"
      ]
    },
    {
      "cell_type": "code",
      "execution_count": 8,
      "metadata": {
        "colab": {
          "base_uri": "https://localhost:8080/"
        },
        "id": "fr1ce8agNuZF",
        "outputId": "4861b88e-f843-412b-b43b-d053c5d42aab"
      },
      "outputs": [
        {
          "output_type": "stream",
          "name": "stdout",
          "text": [
            "\u001b[0m\u001b[01;34mBEANS\u001b[0m/   \u001b[01;34mCHIPS\u001b[0m/      \u001b[01;34mFISH\u001b[0m/   \u001b[01;34mJUICE\u001b[0m/  \u001b[01;34mPASTA\u001b[0m/   \u001b[01;34mSUGAR\u001b[0m/         \u001b[01;34mWATER\u001b[0m/\n",
            "\u001b[01;34mCAKE\u001b[0m/    \u001b[01;34mCHOCOLATE\u001b[0m/  \u001b[01;34mFLOUR\u001b[0m/  \u001b[01;34mMILK\u001b[0m/   \u001b[01;34mRICE\u001b[0m/    \u001b[01;34mTEA\u001b[0m/\n",
            "\u001b[01;34mCANDY\u001b[0m/   \u001b[01;34mCOFFEE\u001b[0m/     \u001b[01;34mHONEY\u001b[0m/  \u001b[01;34mNUTS\u001b[0m/   \u001b[01;34mSODA\u001b[0m/    \u001b[01;34mTOMATO_SAUCE\u001b[0m/\n",
            "\u001b[01;34mCEREAL\u001b[0m/  \u001b[01;34mCORN\u001b[0m/       \u001b[01;34mJAM\u001b[0m/    \u001b[01;34mOIL\u001b[0m/    \u001b[01;34mSPICES\u001b[0m/  \u001b[01;34mVINEGAR\u001b[0m/\n"
          ]
        }
      ],
      "source": [
        "ls /tmp/dataset/output/train"
      ]
    },
    {
      "cell_type": "code",
      "execution_count": 9,
      "metadata": {
        "colab": {
          "base_uri": "https://localhost:8080/"
        },
        "id": "zKdJGGwVPQL0",
        "outputId": "a09f7c0e-71f3-4b77-bcf0-3fc04d591ec8"
      },
      "outputs": [
        {
          "output_type": "stream",
          "name": "stdout",
          "text": [
            "Found 3699 files belonging to 25 classes.\n",
            "Found 1248 files belonging to 25 classes.\n"
          ]
        }
      ],
      "source": [
        "train = keras.utils.image_dataset_from_directory(\n",
        "    directory=train_data_path,\n",
        "    labels='inferred',\n",
        "    label_mode='categorical',\n",
        "    crop_to_aspect_ratio=True,\n",
        "    batch_size=batch_size,\n",
        "    image_size=(img_size, img_size))\n",
        "\n",
        "validation = keras.utils.image_dataset_from_directory(\n",
        "    directory=val_data_path,\n",
        "    labels='inferred',\n",
        "    label_mode='categorical',\n",
        "    crop_to_aspect_ratio=True,\n",
        "    batch_size=batch_size,\n",
        "    image_size=(img_size, img_size))\n"
      ]
    },
    {
      "cell_type": "code",
      "execution_count": 10,
      "metadata": {
        "colab": {
          "base_uri": "https://localhost:8080/"
        },
        "id": "LbA0bsB8SkXX",
        "outputId": "e55b5fe2-fe18-4839-85e0-2e09e33010a4"
      },
      "outputs": [
        {
          "output_type": "stream",
          "name": "stdout",
          "text": [
            "25\n"
          ]
        }
      ],
      "source": [
        "print(len(train.class_names))\n",
        "classes=train.class_names"
      ]
    },
    {
      "cell_type": "markdown",
      "metadata": {
        "id": "8fRpuWQ6rs75"
      },
      "source": [
        "## data generator"
      ]
    },
    {
      "cell_type": "code",
      "execution_count": 11,
      "metadata": {
        "id": "RHfLFKiVrvVk"
      },
      "outputs": [],
      "source": [
        "train_datagen = keras.preprocessing.image.ImageDataGenerator(                      \n",
        "    rotation_range=90,\n",
        "    width_shift_range = 0.2,\n",
        "    height_shift_range = 0.2,\n",
        "    zoom_range=0.2\n",
        "    )"
      ]
    },
    {
      "cell_type": "code",
      "execution_count": 12,
      "metadata": {
        "id": "Wel6KXdlCYqV"
      },
      "outputs": [],
      "source": [
        "val_datagen = keras.preprocessing.image.ImageDataGenerator()"
      ]
    },
    {
      "cell_type": "code",
      "execution_count": 13,
      "metadata": {
        "colab": {
          "base_uri": "https://localhost:8080/"
        },
        "id": "0cFK5bwBr45S",
        "outputId": "20f52ed4-5489-43e1-8e23-090680750da7"
      },
      "outputs": [
        {
          "output_type": "stream",
          "name": "stdout",
          "text": [
            "Found 3699 images belonging to 25 classes.\n"
          ]
        }
      ],
      "source": [
        "train_generator = train_datagen.flow_from_directory(train_data_path,\n",
        "                                                    target_size=(img_size, img_size),\n",
        "                                                    batch_size=batch_size,\n",
        "                                                    class_mode='categorical')"
      ]
    },
    {
      "cell_type": "code",
      "execution_count": 14,
      "metadata": {
        "colab": {
          "base_uri": "https://localhost:8080/"
        },
        "id": "2RRWwWU4r4-w",
        "outputId": "d630243b-f101-460d-dc10-a74e554a0544"
      },
      "outputs": [
        {
          "output_type": "stream",
          "name": "stdout",
          "text": [
            "Found 1248 images belonging to 25 classes.\n"
          ]
        }
      ],
      "source": [
        "val_generator = val_datagen.flow_from_directory(val_data_path,\n",
        "                                                    target_size=(img_size, img_size),\n",
        "                                                    batch_size=batch_size,\n",
        "                                                    class_mode='categorical')"
      ]
    },
    {
      "cell_type": "markdown",
      "metadata": {
        "id": "zM8z2f_VS5D-"
      },
      "source": [
        "# Model"
      ]
    },
    {
      "cell_type": "code",
      "execution_count": 15,
      "metadata": {
        "colab": {
          "base_uri": "https://localhost:8080/"
        },
        "id": "_38nmjPVUqpL",
        "outputId": "78db243f-0f0a-4046-aea6-051f8e6e175b"
      },
      "outputs": [
        {
          "output_type": "stream",
          "name": "stdout",
          "text": [
            "Downloading data from https://storage.googleapis.com/tensorflow/keras-applications/resnet/resnet50_weights_tf_dim_ordering_tf_kernels_notop.h5\n",
            "94773248/94765736 [==============================] - 0s 0us/step\n",
            "94781440/94765736 [==============================] - 0s 0us/step\n"
          ]
        }
      ],
      "source": [
        "resnet_model = keras.applications.ResNet50(\n",
        "    include_top=False,\n",
        "    weights=\"imagenet\",\n",
        "    input_tensor=None,\n",
        "    input_shape=(img_size, img_size, 3),\n",
        "    pooling=None,\n",
        "    classes=len(classes)\n",
        ") "
      ]
    },
    {
      "cell_type": "code",
      "execution_count": 16,
      "metadata": {
        "colab": {
          "base_uri": "https://localhost:8080/"
        },
        "id": "4jNeSxwMg9BO",
        "outputId": "762fab73-6e59-4eb0-88e9-ed40ad3a8469"
      },
      "outputs": [
        {
          "output_type": "stream",
          "name": "stdout",
          "text": [
            "Model: \"resnet50\"\n",
            "__________________________________________________________________________________________________\n",
            " Layer (type)                   Output Shape         Param #     Connected to                     \n",
            "==================================================================================================\n",
            " input_1 (InputLayer)           [(None, 256, 256, 3  0           []                               \n",
            "                                )]                                                                \n",
            "                                                                                                  \n",
            " conv1_pad (ZeroPadding2D)      (None, 262, 262, 3)  0           ['input_1[0][0]']                \n",
            "                                                                                                  \n",
            " conv1_conv (Conv2D)            (None, 128, 128, 64  9472        ['conv1_pad[0][0]']              \n",
            "                                )                                                                 \n",
            "                                                                                                  \n",
            " conv1_bn (BatchNormalization)  (None, 128, 128, 64  256         ['conv1_conv[0][0]']             \n",
            "                                )                                                                 \n",
            "                                                                                                  \n",
            " conv1_relu (Activation)        (None, 128, 128, 64  0           ['conv1_bn[0][0]']               \n",
            "                                )                                                                 \n",
            "                                                                                                  \n",
            " pool1_pad (ZeroPadding2D)      (None, 130, 130, 64  0           ['conv1_relu[0][0]']             \n",
            "                                )                                                                 \n",
            "                                                                                                  \n",
            " pool1_pool (MaxPooling2D)      (None, 64, 64, 64)   0           ['pool1_pad[0][0]']              \n",
            "                                                                                                  \n",
            " conv2_block1_1_conv (Conv2D)   (None, 64, 64, 64)   4160        ['pool1_pool[0][0]']             \n",
            "                                                                                                  \n",
            " conv2_block1_1_bn (BatchNormal  (None, 64, 64, 64)  256         ['conv2_block1_1_conv[0][0]']    \n",
            " ization)                                                                                         \n",
            "                                                                                                  \n",
            " conv2_block1_1_relu (Activatio  (None, 64, 64, 64)  0           ['conv2_block1_1_bn[0][0]']      \n",
            " n)                                                                                               \n",
            "                                                                                                  \n",
            " conv2_block1_2_conv (Conv2D)   (None, 64, 64, 64)   36928       ['conv2_block1_1_relu[0][0]']    \n",
            "                                                                                                  \n",
            " conv2_block1_2_bn (BatchNormal  (None, 64, 64, 64)  256         ['conv2_block1_2_conv[0][0]']    \n",
            " ization)                                                                                         \n",
            "                                                                                                  \n",
            " conv2_block1_2_relu (Activatio  (None, 64, 64, 64)  0           ['conv2_block1_2_bn[0][0]']      \n",
            " n)                                                                                               \n",
            "                                                                                                  \n",
            " conv2_block1_0_conv (Conv2D)   (None, 64, 64, 256)  16640       ['pool1_pool[0][0]']             \n",
            "                                                                                                  \n",
            " conv2_block1_3_conv (Conv2D)   (None, 64, 64, 256)  16640       ['conv2_block1_2_relu[0][0]']    \n",
            "                                                                                                  \n",
            " conv2_block1_0_bn (BatchNormal  (None, 64, 64, 256)  1024       ['conv2_block1_0_conv[0][0]']    \n",
            " ization)                                                                                         \n",
            "                                                                                                  \n",
            " conv2_block1_3_bn (BatchNormal  (None, 64, 64, 256)  1024       ['conv2_block1_3_conv[0][0]']    \n",
            " ization)                                                                                         \n",
            "                                                                                                  \n",
            " conv2_block1_add (Add)         (None, 64, 64, 256)  0           ['conv2_block1_0_bn[0][0]',      \n",
            "                                                                  'conv2_block1_3_bn[0][0]']      \n",
            "                                                                                                  \n",
            " conv2_block1_out (Activation)  (None, 64, 64, 256)  0           ['conv2_block1_add[0][0]']       \n",
            "                                                                                                  \n",
            " conv2_block2_1_conv (Conv2D)   (None, 64, 64, 64)   16448       ['conv2_block1_out[0][0]']       \n",
            "                                                                                                  \n",
            " conv2_block2_1_bn (BatchNormal  (None, 64, 64, 64)  256         ['conv2_block2_1_conv[0][0]']    \n",
            " ization)                                                                                         \n",
            "                                                                                                  \n",
            " conv2_block2_1_relu (Activatio  (None, 64, 64, 64)  0           ['conv2_block2_1_bn[0][0]']      \n",
            " n)                                                                                               \n",
            "                                                                                                  \n",
            " conv2_block2_2_conv (Conv2D)   (None, 64, 64, 64)   36928       ['conv2_block2_1_relu[0][0]']    \n",
            "                                                                                                  \n",
            " conv2_block2_2_bn (BatchNormal  (None, 64, 64, 64)  256         ['conv2_block2_2_conv[0][0]']    \n",
            " ization)                                                                                         \n",
            "                                                                                                  \n",
            " conv2_block2_2_relu (Activatio  (None, 64, 64, 64)  0           ['conv2_block2_2_bn[0][0]']      \n",
            " n)                                                                                               \n",
            "                                                                                                  \n",
            " conv2_block2_3_conv (Conv2D)   (None, 64, 64, 256)  16640       ['conv2_block2_2_relu[0][0]']    \n",
            "                                                                                                  \n",
            " conv2_block2_3_bn (BatchNormal  (None, 64, 64, 256)  1024       ['conv2_block2_3_conv[0][0]']    \n",
            " ization)                                                                                         \n",
            "                                                                                                  \n",
            " conv2_block2_add (Add)         (None, 64, 64, 256)  0           ['conv2_block1_out[0][0]',       \n",
            "                                                                  'conv2_block2_3_bn[0][0]']      \n",
            "                                                                                                  \n",
            " conv2_block2_out (Activation)  (None, 64, 64, 256)  0           ['conv2_block2_add[0][0]']       \n",
            "                                                                                                  \n",
            " conv2_block3_1_conv (Conv2D)   (None, 64, 64, 64)   16448       ['conv2_block2_out[0][0]']       \n",
            "                                                                                                  \n",
            " conv2_block3_1_bn (BatchNormal  (None, 64, 64, 64)  256         ['conv2_block3_1_conv[0][0]']    \n",
            " ization)                                                                                         \n",
            "                                                                                                  \n",
            " conv2_block3_1_relu (Activatio  (None, 64, 64, 64)  0           ['conv2_block3_1_bn[0][0]']      \n",
            " n)                                                                                               \n",
            "                                                                                                  \n",
            " conv2_block3_2_conv (Conv2D)   (None, 64, 64, 64)   36928       ['conv2_block3_1_relu[0][0]']    \n",
            "                                                                                                  \n",
            " conv2_block3_2_bn (BatchNormal  (None, 64, 64, 64)  256         ['conv2_block3_2_conv[0][0]']    \n",
            " ization)                                                                                         \n",
            "                                                                                                  \n",
            " conv2_block3_2_relu (Activatio  (None, 64, 64, 64)  0           ['conv2_block3_2_bn[0][0]']      \n",
            " n)                                                                                               \n",
            "                                                                                                  \n",
            " conv2_block3_3_conv (Conv2D)   (None, 64, 64, 256)  16640       ['conv2_block3_2_relu[0][0]']    \n",
            "                                                                                                  \n",
            " conv2_block3_3_bn (BatchNormal  (None, 64, 64, 256)  1024       ['conv2_block3_3_conv[0][0]']    \n",
            " ization)                                                                                         \n",
            "                                                                                                  \n",
            " conv2_block3_add (Add)         (None, 64, 64, 256)  0           ['conv2_block2_out[0][0]',       \n",
            "                                                                  'conv2_block3_3_bn[0][0]']      \n",
            "                                                                                                  \n",
            " conv2_block3_out (Activation)  (None, 64, 64, 256)  0           ['conv2_block3_add[0][0]']       \n",
            "                                                                                                  \n",
            " conv3_block1_1_conv (Conv2D)   (None, 32, 32, 128)  32896       ['conv2_block3_out[0][0]']       \n",
            "                                                                                                  \n",
            " conv3_block1_1_bn (BatchNormal  (None, 32, 32, 128)  512        ['conv3_block1_1_conv[0][0]']    \n",
            " ization)                                                                                         \n",
            "                                                                                                  \n",
            " conv3_block1_1_relu (Activatio  (None, 32, 32, 128)  0          ['conv3_block1_1_bn[0][0]']      \n",
            " n)                                                                                               \n",
            "                                                                                                  \n",
            " conv3_block1_2_conv (Conv2D)   (None, 32, 32, 128)  147584      ['conv3_block1_1_relu[0][0]']    \n",
            "                                                                                                  \n",
            " conv3_block1_2_bn (BatchNormal  (None, 32, 32, 128)  512        ['conv3_block1_2_conv[0][0]']    \n",
            " ization)                                                                                         \n",
            "                                                                                                  \n",
            " conv3_block1_2_relu (Activatio  (None, 32, 32, 128)  0          ['conv3_block1_2_bn[0][0]']      \n",
            " n)                                                                                               \n",
            "                                                                                                  \n",
            " conv3_block1_0_conv (Conv2D)   (None, 32, 32, 512)  131584      ['conv2_block3_out[0][0]']       \n",
            "                                                                                                  \n",
            " conv3_block1_3_conv (Conv2D)   (None, 32, 32, 512)  66048       ['conv3_block1_2_relu[0][0]']    \n",
            "                                                                                                  \n",
            " conv3_block1_0_bn (BatchNormal  (None, 32, 32, 512)  2048       ['conv3_block1_0_conv[0][0]']    \n",
            " ization)                                                                                         \n",
            "                                                                                                  \n",
            " conv3_block1_3_bn (BatchNormal  (None, 32, 32, 512)  2048       ['conv3_block1_3_conv[0][0]']    \n",
            " ization)                                                                                         \n",
            "                                                                                                  \n",
            " conv3_block1_add (Add)         (None, 32, 32, 512)  0           ['conv3_block1_0_bn[0][0]',      \n",
            "                                                                  'conv3_block1_3_bn[0][0]']      \n",
            "                                                                                                  \n",
            " conv3_block1_out (Activation)  (None, 32, 32, 512)  0           ['conv3_block1_add[0][0]']       \n",
            "                                                                                                  \n",
            " conv3_block2_1_conv (Conv2D)   (None, 32, 32, 128)  65664       ['conv3_block1_out[0][0]']       \n",
            "                                                                                                  \n",
            " conv3_block2_1_bn (BatchNormal  (None, 32, 32, 128)  512        ['conv3_block2_1_conv[0][0]']    \n",
            " ization)                                                                                         \n",
            "                                                                                                  \n",
            " conv3_block2_1_relu (Activatio  (None, 32, 32, 128)  0          ['conv3_block2_1_bn[0][0]']      \n",
            " n)                                                                                               \n",
            "                                                                                                  \n",
            " conv3_block2_2_conv (Conv2D)   (None, 32, 32, 128)  147584      ['conv3_block2_1_relu[0][0]']    \n",
            "                                                                                                  \n",
            " conv3_block2_2_bn (BatchNormal  (None, 32, 32, 128)  512        ['conv3_block2_2_conv[0][0]']    \n",
            " ization)                                                                                         \n",
            "                                                                                                  \n",
            " conv3_block2_2_relu (Activatio  (None, 32, 32, 128)  0          ['conv3_block2_2_bn[0][0]']      \n",
            " n)                                                                                               \n",
            "                                                                                                  \n",
            " conv3_block2_3_conv (Conv2D)   (None, 32, 32, 512)  66048       ['conv3_block2_2_relu[0][0]']    \n",
            "                                                                                                  \n",
            " conv3_block2_3_bn (BatchNormal  (None, 32, 32, 512)  2048       ['conv3_block2_3_conv[0][0]']    \n",
            " ization)                                                                                         \n",
            "                                                                                                  \n",
            " conv3_block2_add (Add)         (None, 32, 32, 512)  0           ['conv3_block1_out[0][0]',       \n",
            "                                                                  'conv3_block2_3_bn[0][0]']      \n",
            "                                                                                                  \n",
            " conv3_block2_out (Activation)  (None, 32, 32, 512)  0           ['conv3_block2_add[0][0]']       \n",
            "                                                                                                  \n",
            " conv3_block3_1_conv (Conv2D)   (None, 32, 32, 128)  65664       ['conv3_block2_out[0][0]']       \n",
            "                                                                                                  \n",
            " conv3_block3_1_bn (BatchNormal  (None, 32, 32, 128)  512        ['conv3_block3_1_conv[0][0]']    \n",
            " ization)                                                                                         \n",
            "                                                                                                  \n",
            " conv3_block3_1_relu (Activatio  (None, 32, 32, 128)  0          ['conv3_block3_1_bn[0][0]']      \n",
            " n)                                                                                               \n",
            "                                                                                                  \n",
            " conv3_block3_2_conv (Conv2D)   (None, 32, 32, 128)  147584      ['conv3_block3_1_relu[0][0]']    \n",
            "                                                                                                  \n",
            " conv3_block3_2_bn (BatchNormal  (None, 32, 32, 128)  512        ['conv3_block3_2_conv[0][0]']    \n",
            " ization)                                                                                         \n",
            "                                                                                                  \n",
            " conv3_block3_2_relu (Activatio  (None, 32, 32, 128)  0          ['conv3_block3_2_bn[0][0]']      \n",
            " n)                                                                                               \n",
            "                                                                                                  \n",
            " conv3_block3_3_conv (Conv2D)   (None, 32, 32, 512)  66048       ['conv3_block3_2_relu[0][0]']    \n",
            "                                                                                                  \n",
            " conv3_block3_3_bn (BatchNormal  (None, 32, 32, 512)  2048       ['conv3_block3_3_conv[0][0]']    \n",
            " ization)                                                                                         \n",
            "                                                                                                  \n",
            " conv3_block3_add (Add)         (None, 32, 32, 512)  0           ['conv3_block2_out[0][0]',       \n",
            "                                                                  'conv3_block3_3_bn[0][0]']      \n",
            "                                                                                                  \n",
            " conv3_block3_out (Activation)  (None, 32, 32, 512)  0           ['conv3_block3_add[0][0]']       \n",
            "                                                                                                  \n",
            " conv3_block4_1_conv (Conv2D)   (None, 32, 32, 128)  65664       ['conv3_block3_out[0][0]']       \n",
            "                                                                                                  \n",
            " conv3_block4_1_bn (BatchNormal  (None, 32, 32, 128)  512        ['conv3_block4_1_conv[0][0]']    \n",
            " ization)                                                                                         \n",
            "                                                                                                  \n",
            " conv3_block4_1_relu (Activatio  (None, 32, 32, 128)  0          ['conv3_block4_1_bn[0][0]']      \n",
            " n)                                                                                               \n",
            "                                                                                                  \n",
            " conv3_block4_2_conv (Conv2D)   (None, 32, 32, 128)  147584      ['conv3_block4_1_relu[0][0]']    \n",
            "                                                                                                  \n",
            " conv3_block4_2_bn (BatchNormal  (None, 32, 32, 128)  512        ['conv3_block4_2_conv[0][0]']    \n",
            " ization)                                                                                         \n",
            "                                                                                                  \n",
            " conv3_block4_2_relu (Activatio  (None, 32, 32, 128)  0          ['conv3_block4_2_bn[0][0]']      \n",
            " n)                                                                                               \n",
            "                                                                                                  \n",
            " conv3_block4_3_conv (Conv2D)   (None, 32, 32, 512)  66048       ['conv3_block4_2_relu[0][0]']    \n",
            "                                                                                                  \n",
            " conv3_block4_3_bn (BatchNormal  (None, 32, 32, 512)  2048       ['conv3_block4_3_conv[0][0]']    \n",
            " ization)                                                                                         \n",
            "                                                                                                  \n",
            " conv3_block4_add (Add)         (None, 32, 32, 512)  0           ['conv3_block3_out[0][0]',       \n",
            "                                                                  'conv3_block4_3_bn[0][0]']      \n",
            "                                                                                                  \n",
            " conv3_block4_out (Activation)  (None, 32, 32, 512)  0           ['conv3_block4_add[0][0]']       \n",
            "                                                                                                  \n",
            " conv4_block1_1_conv (Conv2D)   (None, 16, 16, 256)  131328      ['conv3_block4_out[0][0]']       \n",
            "                                                                                                  \n",
            " conv4_block1_1_bn (BatchNormal  (None, 16, 16, 256)  1024       ['conv4_block1_1_conv[0][0]']    \n",
            " ization)                                                                                         \n",
            "                                                                                                  \n",
            " conv4_block1_1_relu (Activatio  (None, 16, 16, 256)  0          ['conv4_block1_1_bn[0][0]']      \n",
            " n)                                                                                               \n",
            "                                                                                                  \n",
            " conv4_block1_2_conv (Conv2D)   (None, 16, 16, 256)  590080      ['conv4_block1_1_relu[0][0]']    \n",
            "                                                                                                  \n",
            " conv4_block1_2_bn (BatchNormal  (None, 16, 16, 256)  1024       ['conv4_block1_2_conv[0][0]']    \n",
            " ization)                                                                                         \n",
            "                                                                                                  \n",
            " conv4_block1_2_relu (Activatio  (None, 16, 16, 256)  0          ['conv4_block1_2_bn[0][0]']      \n",
            " n)                                                                                               \n",
            "                                                                                                  \n",
            " conv4_block1_0_conv (Conv2D)   (None, 16, 16, 1024  525312      ['conv3_block4_out[0][0]']       \n",
            "                                )                                                                 \n",
            "                                                                                                  \n",
            " conv4_block1_3_conv (Conv2D)   (None, 16, 16, 1024  263168      ['conv4_block1_2_relu[0][0]']    \n",
            "                                )                                                                 \n",
            "                                                                                                  \n",
            " conv4_block1_0_bn (BatchNormal  (None, 16, 16, 1024  4096       ['conv4_block1_0_conv[0][0]']    \n",
            " ization)                       )                                                                 \n",
            "                                                                                                  \n",
            " conv4_block1_3_bn (BatchNormal  (None, 16, 16, 1024  4096       ['conv4_block1_3_conv[0][0]']    \n",
            " ization)                       )                                                                 \n",
            "                                                                                                  \n",
            " conv4_block1_add (Add)         (None, 16, 16, 1024  0           ['conv4_block1_0_bn[0][0]',      \n",
            "                                )                                 'conv4_block1_3_bn[0][0]']      \n",
            "                                                                                                  \n",
            " conv4_block1_out (Activation)  (None, 16, 16, 1024  0           ['conv4_block1_add[0][0]']       \n",
            "                                )                                                                 \n",
            "                                                                                                  \n",
            " conv4_block2_1_conv (Conv2D)   (None, 16, 16, 256)  262400      ['conv4_block1_out[0][0]']       \n",
            "                                                                                                  \n",
            " conv4_block2_1_bn (BatchNormal  (None, 16, 16, 256)  1024       ['conv4_block2_1_conv[0][0]']    \n",
            " ization)                                                                                         \n",
            "                                                                                                  \n",
            " conv4_block2_1_relu (Activatio  (None, 16, 16, 256)  0          ['conv4_block2_1_bn[0][0]']      \n",
            " n)                                                                                               \n",
            "                                                                                                  \n",
            " conv4_block2_2_conv (Conv2D)   (None, 16, 16, 256)  590080      ['conv4_block2_1_relu[0][0]']    \n",
            "                                                                                                  \n",
            " conv4_block2_2_bn (BatchNormal  (None, 16, 16, 256)  1024       ['conv4_block2_2_conv[0][0]']    \n",
            " ization)                                                                                         \n",
            "                                                                                                  \n",
            " conv4_block2_2_relu (Activatio  (None, 16, 16, 256)  0          ['conv4_block2_2_bn[0][0]']      \n",
            " n)                                                                                               \n",
            "                                                                                                  \n",
            " conv4_block2_3_conv (Conv2D)   (None, 16, 16, 1024  263168      ['conv4_block2_2_relu[0][0]']    \n",
            "                                )                                                                 \n",
            "                                                                                                  \n",
            " conv4_block2_3_bn (BatchNormal  (None, 16, 16, 1024  4096       ['conv4_block2_3_conv[0][0]']    \n",
            " ization)                       )                                                                 \n",
            "                                                                                                  \n",
            " conv4_block2_add (Add)         (None, 16, 16, 1024  0           ['conv4_block1_out[0][0]',       \n",
            "                                )                                 'conv4_block2_3_bn[0][0]']      \n",
            "                                                                                                  \n",
            " conv4_block2_out (Activation)  (None, 16, 16, 1024  0           ['conv4_block2_add[0][0]']       \n",
            "                                )                                                                 \n",
            "                                                                                                  \n",
            " conv4_block3_1_conv (Conv2D)   (None, 16, 16, 256)  262400      ['conv4_block2_out[0][0]']       \n",
            "                                                                                                  \n",
            " conv4_block3_1_bn (BatchNormal  (None, 16, 16, 256)  1024       ['conv4_block3_1_conv[0][0]']    \n",
            " ization)                                                                                         \n",
            "                                                                                                  \n",
            " conv4_block3_1_relu (Activatio  (None, 16, 16, 256)  0          ['conv4_block3_1_bn[0][0]']      \n",
            " n)                                                                                               \n",
            "                                                                                                  \n",
            " conv4_block3_2_conv (Conv2D)   (None, 16, 16, 256)  590080      ['conv4_block3_1_relu[0][0]']    \n",
            "                                                                                                  \n",
            " conv4_block3_2_bn (BatchNormal  (None, 16, 16, 256)  1024       ['conv4_block3_2_conv[0][0]']    \n",
            " ization)                                                                                         \n",
            "                                                                                                  \n",
            " conv4_block3_2_relu (Activatio  (None, 16, 16, 256)  0          ['conv4_block3_2_bn[0][0]']      \n",
            " n)                                                                                               \n",
            "                                                                                                  \n",
            " conv4_block3_3_conv (Conv2D)   (None, 16, 16, 1024  263168      ['conv4_block3_2_relu[0][0]']    \n",
            "                                )                                                                 \n",
            "                                                                                                  \n",
            " conv4_block3_3_bn (BatchNormal  (None, 16, 16, 1024  4096       ['conv4_block3_3_conv[0][0]']    \n",
            " ization)                       )                                                                 \n",
            "                                                                                                  \n",
            " conv4_block3_add (Add)         (None, 16, 16, 1024  0           ['conv4_block2_out[0][0]',       \n",
            "                                )                                 'conv4_block3_3_bn[0][0]']      \n",
            "                                                                                                  \n",
            " conv4_block3_out (Activation)  (None, 16, 16, 1024  0           ['conv4_block3_add[0][0]']       \n",
            "                                )                                                                 \n",
            "                                                                                                  \n",
            " conv4_block4_1_conv (Conv2D)   (None, 16, 16, 256)  262400      ['conv4_block3_out[0][0]']       \n",
            "                                                                                                  \n",
            " conv4_block4_1_bn (BatchNormal  (None, 16, 16, 256)  1024       ['conv4_block4_1_conv[0][0]']    \n",
            " ization)                                                                                         \n",
            "                                                                                                  \n",
            " conv4_block4_1_relu (Activatio  (None, 16, 16, 256)  0          ['conv4_block4_1_bn[0][0]']      \n",
            " n)                                                                                               \n",
            "                                                                                                  \n",
            " conv4_block4_2_conv (Conv2D)   (None, 16, 16, 256)  590080      ['conv4_block4_1_relu[0][0]']    \n",
            "                                                                                                  \n",
            " conv4_block4_2_bn (BatchNormal  (None, 16, 16, 256)  1024       ['conv4_block4_2_conv[0][0]']    \n",
            " ization)                                                                                         \n",
            "                                                                                                  \n",
            " conv4_block4_2_relu (Activatio  (None, 16, 16, 256)  0          ['conv4_block4_2_bn[0][0]']      \n",
            " n)                                                                                               \n",
            "                                                                                                  \n",
            " conv4_block4_3_conv (Conv2D)   (None, 16, 16, 1024  263168      ['conv4_block4_2_relu[0][0]']    \n",
            "                                )                                                                 \n",
            "                                                                                                  \n",
            " conv4_block4_3_bn (BatchNormal  (None, 16, 16, 1024  4096       ['conv4_block4_3_conv[0][0]']    \n",
            " ization)                       )                                                                 \n",
            "                                                                                                  \n",
            " conv4_block4_add (Add)         (None, 16, 16, 1024  0           ['conv4_block3_out[0][0]',       \n",
            "                                )                                 'conv4_block4_3_bn[0][0]']      \n",
            "                                                                                                  \n",
            " conv4_block4_out (Activation)  (None, 16, 16, 1024  0           ['conv4_block4_add[0][0]']       \n",
            "                                )                                                                 \n",
            "                                                                                                  \n",
            " conv4_block5_1_conv (Conv2D)   (None, 16, 16, 256)  262400      ['conv4_block4_out[0][0]']       \n",
            "                                                                                                  \n",
            " conv4_block5_1_bn (BatchNormal  (None, 16, 16, 256)  1024       ['conv4_block5_1_conv[0][0]']    \n",
            " ization)                                                                                         \n",
            "                                                                                                  \n",
            " conv4_block5_1_relu (Activatio  (None, 16, 16, 256)  0          ['conv4_block5_1_bn[0][0]']      \n",
            " n)                                                                                               \n",
            "                                                                                                  \n",
            " conv4_block5_2_conv (Conv2D)   (None, 16, 16, 256)  590080      ['conv4_block5_1_relu[0][0]']    \n",
            "                                                                                                  \n",
            " conv4_block5_2_bn (BatchNormal  (None, 16, 16, 256)  1024       ['conv4_block5_2_conv[0][0]']    \n",
            " ization)                                                                                         \n",
            "                                                                                                  \n",
            " conv4_block5_2_relu (Activatio  (None, 16, 16, 256)  0          ['conv4_block5_2_bn[0][0]']      \n",
            " n)                                                                                               \n",
            "                                                                                                  \n",
            " conv4_block5_3_conv (Conv2D)   (None, 16, 16, 1024  263168      ['conv4_block5_2_relu[0][0]']    \n",
            "                                )                                                                 \n",
            "                                                                                                  \n",
            " conv4_block5_3_bn (BatchNormal  (None, 16, 16, 1024  4096       ['conv4_block5_3_conv[0][0]']    \n",
            " ization)                       )                                                                 \n",
            "                                                                                                  \n",
            " conv4_block5_add (Add)         (None, 16, 16, 1024  0           ['conv4_block4_out[0][0]',       \n",
            "                                )                                 'conv4_block5_3_bn[0][0]']      \n",
            "                                                                                                  \n",
            " conv4_block5_out (Activation)  (None, 16, 16, 1024  0           ['conv4_block5_add[0][0]']       \n",
            "                                )                                                                 \n",
            "                                                                                                  \n",
            " conv4_block6_1_conv (Conv2D)   (None, 16, 16, 256)  262400      ['conv4_block5_out[0][0]']       \n",
            "                                                                                                  \n",
            " conv4_block6_1_bn (BatchNormal  (None, 16, 16, 256)  1024       ['conv4_block6_1_conv[0][0]']    \n",
            " ization)                                                                                         \n",
            "                                                                                                  \n",
            " conv4_block6_1_relu (Activatio  (None, 16, 16, 256)  0          ['conv4_block6_1_bn[0][0]']      \n",
            " n)                                                                                               \n",
            "                                                                                                  \n",
            " conv4_block6_2_conv (Conv2D)   (None, 16, 16, 256)  590080      ['conv4_block6_1_relu[0][0]']    \n",
            "                                                                                                  \n",
            " conv4_block6_2_bn (BatchNormal  (None, 16, 16, 256)  1024       ['conv4_block6_2_conv[0][0]']    \n",
            " ization)                                                                                         \n",
            "                                                                                                  \n",
            " conv4_block6_2_relu (Activatio  (None, 16, 16, 256)  0          ['conv4_block6_2_bn[0][0]']      \n",
            " n)                                                                                               \n",
            "                                                                                                  \n",
            " conv4_block6_3_conv (Conv2D)   (None, 16, 16, 1024  263168      ['conv4_block6_2_relu[0][0]']    \n",
            "                                )                                                                 \n",
            "                                                                                                  \n",
            " conv4_block6_3_bn (BatchNormal  (None, 16, 16, 1024  4096       ['conv4_block6_3_conv[0][0]']    \n",
            " ization)                       )                                                                 \n",
            "                                                                                                  \n",
            " conv4_block6_add (Add)         (None, 16, 16, 1024  0           ['conv4_block5_out[0][0]',       \n",
            "                                )                                 'conv4_block6_3_bn[0][0]']      \n",
            "                                                                                                  \n",
            " conv4_block6_out (Activation)  (None, 16, 16, 1024  0           ['conv4_block6_add[0][0]']       \n",
            "                                )                                                                 \n",
            "                                                                                                  \n",
            " conv5_block1_1_conv (Conv2D)   (None, 8, 8, 512)    524800      ['conv4_block6_out[0][0]']       \n",
            "                                                                                                  \n",
            " conv5_block1_1_bn (BatchNormal  (None, 8, 8, 512)   2048        ['conv5_block1_1_conv[0][0]']    \n",
            " ization)                                                                                         \n",
            "                                                                                                  \n",
            " conv5_block1_1_relu (Activatio  (None, 8, 8, 512)   0           ['conv5_block1_1_bn[0][0]']      \n",
            " n)                                                                                               \n",
            "                                                                                                  \n",
            " conv5_block1_2_conv (Conv2D)   (None, 8, 8, 512)    2359808     ['conv5_block1_1_relu[0][0]']    \n",
            "                                                                                                  \n",
            " conv5_block1_2_bn (BatchNormal  (None, 8, 8, 512)   2048        ['conv5_block1_2_conv[0][0]']    \n",
            " ization)                                                                                         \n",
            "                                                                                                  \n",
            " conv5_block1_2_relu (Activatio  (None, 8, 8, 512)   0           ['conv5_block1_2_bn[0][0]']      \n",
            " n)                                                                                               \n",
            "                                                                                                  \n",
            " conv5_block1_0_conv (Conv2D)   (None, 8, 8, 2048)   2099200     ['conv4_block6_out[0][0]']       \n",
            "                                                                                                  \n",
            " conv5_block1_3_conv (Conv2D)   (None, 8, 8, 2048)   1050624     ['conv5_block1_2_relu[0][0]']    \n",
            "                                                                                                  \n",
            " conv5_block1_0_bn (BatchNormal  (None, 8, 8, 2048)  8192        ['conv5_block1_0_conv[0][0]']    \n",
            " ization)                                                                                         \n",
            "                                                                                                  \n",
            " conv5_block1_3_bn (BatchNormal  (None, 8, 8, 2048)  8192        ['conv5_block1_3_conv[0][0]']    \n",
            " ization)                                                                                         \n",
            "                                                                                                  \n",
            " conv5_block1_add (Add)         (None, 8, 8, 2048)   0           ['conv5_block1_0_bn[0][0]',      \n",
            "                                                                  'conv5_block1_3_bn[0][0]']      \n",
            "                                                                                                  \n",
            " conv5_block1_out (Activation)  (None, 8, 8, 2048)   0           ['conv5_block1_add[0][0]']       \n",
            "                                                                                                  \n",
            " conv5_block2_1_conv (Conv2D)   (None, 8, 8, 512)    1049088     ['conv5_block1_out[0][0]']       \n",
            "                                                                                                  \n",
            " conv5_block2_1_bn (BatchNormal  (None, 8, 8, 512)   2048        ['conv5_block2_1_conv[0][0]']    \n",
            " ization)                                                                                         \n",
            "                                                                                                  \n",
            " conv5_block2_1_relu (Activatio  (None, 8, 8, 512)   0           ['conv5_block2_1_bn[0][0]']      \n",
            " n)                                                                                               \n",
            "                                                                                                  \n",
            " conv5_block2_2_conv (Conv2D)   (None, 8, 8, 512)    2359808     ['conv5_block2_1_relu[0][0]']    \n",
            "                                                                                                  \n",
            " conv5_block2_2_bn (BatchNormal  (None, 8, 8, 512)   2048        ['conv5_block2_2_conv[0][0]']    \n",
            " ization)                                                                                         \n",
            "                                                                                                  \n",
            " conv5_block2_2_relu (Activatio  (None, 8, 8, 512)   0           ['conv5_block2_2_bn[0][0]']      \n",
            " n)                                                                                               \n",
            "                                                                                                  \n",
            " conv5_block2_3_conv (Conv2D)   (None, 8, 8, 2048)   1050624     ['conv5_block2_2_relu[0][0]']    \n",
            "                                                                                                  \n",
            " conv5_block2_3_bn (BatchNormal  (None, 8, 8, 2048)  8192        ['conv5_block2_3_conv[0][0]']    \n",
            " ization)                                                                                         \n",
            "                                                                                                  \n",
            " conv5_block2_add (Add)         (None, 8, 8, 2048)   0           ['conv5_block1_out[0][0]',       \n",
            "                                                                  'conv5_block2_3_bn[0][0]']      \n",
            "                                                                                                  \n",
            " conv5_block2_out (Activation)  (None, 8, 8, 2048)   0           ['conv5_block2_add[0][0]']       \n",
            "                                                                                                  \n",
            " conv5_block3_1_conv (Conv2D)   (None, 8, 8, 512)    1049088     ['conv5_block2_out[0][0]']       \n",
            "                                                                                                  \n",
            " conv5_block3_1_bn (BatchNormal  (None, 8, 8, 512)   2048        ['conv5_block3_1_conv[0][0]']    \n",
            " ization)                                                                                         \n",
            "                                                                                                  \n",
            " conv5_block3_1_relu (Activatio  (None, 8, 8, 512)   0           ['conv5_block3_1_bn[0][0]']      \n",
            " n)                                                                                               \n",
            "                                                                                                  \n",
            " conv5_block3_2_conv (Conv2D)   (None, 8, 8, 512)    2359808     ['conv5_block3_1_relu[0][0]']    \n",
            "                                                                                                  \n",
            " conv5_block3_2_bn (BatchNormal  (None, 8, 8, 512)   2048        ['conv5_block3_2_conv[0][0]']    \n",
            " ization)                                                                                         \n",
            "                                                                                                  \n",
            " conv5_block3_2_relu (Activatio  (None, 8, 8, 512)   0           ['conv5_block3_2_bn[0][0]']      \n",
            " n)                                                                                               \n",
            "                                                                                                  \n",
            " conv5_block3_3_conv (Conv2D)   (None, 8, 8, 2048)   1050624     ['conv5_block3_2_relu[0][0]']    \n",
            "                                                                                                  \n",
            " conv5_block3_3_bn (BatchNormal  (None, 8, 8, 2048)  8192        ['conv5_block3_3_conv[0][0]']    \n",
            " ization)                                                                                         \n",
            "                                                                                                  \n",
            " conv5_block3_add (Add)         (None, 8, 8, 2048)   0           ['conv5_block2_out[0][0]',       \n",
            "                                                                  'conv5_block3_3_bn[0][0]']      \n",
            "                                                                                                  \n",
            " conv5_block3_out (Activation)  (None, 8, 8, 2048)   0           ['conv5_block3_add[0][0]']       \n",
            "                                                                                                  \n",
            "==================================================================================================\n",
            "Total params: 23,587,712\n",
            "Trainable params: 23,534,592\n",
            "Non-trainable params: 53,120\n",
            "__________________________________________________________________________________________________\n"
          ]
        }
      ],
      "source": [
        "resnet_model.summary()"
      ]
    },
    {
      "cell_type": "code",
      "execution_count": 17,
      "metadata": {
        "colab": {
          "base_uri": "https://localhost:8080/"
        },
        "id": "p7Otdsf6h-l2",
        "outputId": "e890a1f2-1e52-42fe-e0b3-ab25cda50d13"
      },
      "outputs": [
        {
          "output_type": "execute_result",
          "data": {
            "text/plain": [
              "23587712"
            ]
          },
          "metadata": {},
          "execution_count": 17
        }
      ],
      "source": [
        "resnet_model.count_params()"
      ]
    },
    {
      "cell_type": "code",
      "execution_count": 18,
      "metadata": {
        "id": "4OrGaEsrhRQp"
      },
      "outputs": [],
      "source": [
        "model = keras.models.Sequential()\n",
        "\n",
        "for layer in resnet_model.layers:\n",
        "        layer.trainable=False\n",
        "\n",
        "model.add(resnet_model)"
      ]
    },
    {
      "cell_type": "code",
      "execution_count": 19,
      "metadata": {
        "id": "krbuWcHZS4JW"
      },
      "outputs": [],
      "source": [
        "model.add(keras.layers.Flatten())\n",
        "model.add(keras.layers.Dense(512, activation='relu'))\n",
        "model.add(keras.layers.Dense(len(classes), activation='softmax'))"
      ]
    },
    {
      "cell_type": "code",
      "execution_count": 20,
      "metadata": {
        "colab": {
          "base_uri": "https://localhost:8080/"
        },
        "id": "-VuviVyqVUMr",
        "outputId": "f24eb3d7-5838-49f9-e6e2-180f761841b4"
      },
      "outputs": [
        {
          "output_type": "stream",
          "name": "stdout",
          "text": [
            "Model: \"sequential\"\n",
            "_________________________________________________________________\n",
            " Layer (type)                Output Shape              Param #   \n",
            "=================================================================\n",
            " resnet50 (Functional)       (None, 8, 8, 2048)        23587712  \n",
            "                                                                 \n",
            " flatten (Flatten)           (None, 131072)            0         \n",
            "                                                                 \n",
            " dense (Dense)               (None, 512)               67109376  \n",
            "                                                                 \n",
            " dense_1 (Dense)             (None, 25)                12825     \n",
            "                                                                 \n",
            "=================================================================\n",
            "Total params: 90,709,913\n",
            "Trainable params: 67,122,201\n",
            "Non-trainable params: 23,587,712\n",
            "_________________________________________________________________\n"
          ]
        }
      ],
      "source": [
        "model.summary()"
      ]
    },
    {
      "cell_type": "code",
      "execution_count": 21,
      "metadata": {
        "colab": {
          "base_uri": "https://localhost:8080/"
        },
        "id": "X6UZCmDZiD4L",
        "outputId": "6189ee37-7bfd-429d-ea12-a1d2bbcbcf26"
      },
      "outputs": [
        {
          "output_type": "execute_result",
          "data": {
            "text/plain": [
              "90709913"
            ]
          },
          "metadata": {},
          "execution_count": 21
        }
      ],
      "source": [
        "model.count_params()"
      ]
    },
    {
      "cell_type": "code",
      "execution_count": 22,
      "metadata": {
        "id": "L0zAmLceEhtK"
      },
      "outputs": [],
      "source": [
        "#compile model\n",
        "model.compile(\n",
        "  optimizer=keras.optimizers.Adam(),\n",
        "  loss='categorical_crossentropy',\n",
        "  metrics=['acc'])"
      ]
    },
    {
      "cell_type": "code",
      "execution_count": 23,
      "metadata": {
        "colab": {
          "base_uri": "https://localhost:8080/",
          "height": 533
        },
        "id": "26hgCYK1HBwT",
        "outputId": "5510a608-c74a-43bd-88d8-b8c48e4d5327"
      },
      "outputs": [
        {
          "output_type": "execute_result",
          "data": {
            "text/plain": [
              "<IPython.core.display.Image object>"
            ],
            "image/png": "[encoded data removed]"
          },
          "metadata": {},
          "execution_count": 23
        }
      ],
      "source": [
        "keras.utils.plot_model(model,show_shapes=True)"
      ]
    },
    {
      "cell_type": "code",
      "execution_count": 24,
      "metadata": {
        "colab": {
          "base_uri": "https://localhost:8080/"
        },
        "id": "bbc17pA-ZO7H",
        "outputId": "4a76849d-cb50-466f-c0ae-f0c6063f401e"
      },
      "outputs": [
        {
          "output_type": "stream",
          "name": "stdout",
          "text": [
            "Epoch 1/50\n",
            "116/116 [==============================] - 86s 620ms/step - loss: 11.2212 - acc: 0.1281 - val_loss: 2.9361 - val_acc: 0.1450\n",
            "Epoch 2/50\n",
            "116/116 [==============================] - 70s 602ms/step - loss: 2.8696 - acc: 0.1941 - val_loss: 2.7524 - val_acc: 0.1979\n",
            "Epoch 3/50\n",
            "116/116 [==============================] - 70s 605ms/step - loss: 2.7111 - acc: 0.2155 - val_loss: 2.5470 - val_acc: 0.2684\n",
            "Epoch 4/50\n",
            "116/116 [==============================] - 70s 607ms/step - loss: 2.5666 - acc: 0.2493 - val_loss: 2.5564 - val_acc: 0.2452\n",
            "Epoch 5/50\n",
            "116/116 [==============================] - 71s 610ms/step - loss: 2.5234 - acc: 0.2633 - val_loss: 2.3656 - val_acc: 0.2949\n",
            "Epoch 6/50\n",
            "116/116 [==============================] - 70s 605ms/step - loss: 2.4226 - acc: 0.2849 - val_loss: 2.2105 - val_acc: 0.3381\n",
            "Epoch 7/50\n",
            "116/116 [==============================] - 70s 602ms/step - loss: 2.2963 - acc: 0.3033 - val_loss: 2.1700 - val_acc: 0.3165\n",
            "Epoch 8/50\n",
            "116/116 [==============================] - 71s 609ms/step - loss: 2.2041 - acc: 0.3271 - val_loss: 2.1497 - val_acc: 0.3758\n",
            "Epoch 9/50\n",
            "116/116 [==============================] - 70s 603ms/step - loss: 2.1081 - acc: 0.3520 - val_loss: 1.9465 - val_acc: 0.3934\n",
            "Epoch 10/50\n",
            "116/116 [==============================] - 70s 604ms/step - loss: 2.0517 - acc: 0.3660 - val_loss: 2.1127 - val_acc: 0.3734\n",
            "Epoch 11/50\n",
            "116/116 [==============================] - 71s 609ms/step - loss: 1.9843 - acc: 0.3739 - val_loss: 1.9795 - val_acc: 0.4006\n",
            "Epoch 12/50\n",
            "116/116 [==============================] - 70s 603ms/step - loss: 1.9507 - acc: 0.3790 - val_loss: 1.9105 - val_acc: 0.4239\n",
            "Epoch 13/50\n",
            "116/116 [==============================] - 70s 604ms/step - loss: 1.8607 - acc: 0.4128 - val_loss: 1.8059 - val_acc: 0.4335\n",
            "Epoch 14/50\n",
            "116/116 [==============================] - 71s 611ms/step - loss: 1.8627 - acc: 0.4152 - val_loss: 1.8209 - val_acc: 0.4103\n",
            "Epoch 15/50\n",
            "116/116 [==============================] - 70s 606ms/step - loss: 1.7907 - acc: 0.4223 - val_loss: 1.7503 - val_acc: 0.4311\n",
            "Epoch 16/50\n",
            "116/116 [==============================] - 70s 605ms/step - loss: 1.7701 - acc: 0.4377 - val_loss: 1.8704 - val_acc: 0.4215\n",
            "Epoch 17/50\n",
            "116/116 [==============================] - 71s 608ms/step - loss: 1.7189 - acc: 0.4504 - val_loss: 1.6552 - val_acc: 0.4599\n",
            "Epoch 18/50\n",
            "116/116 [==============================] - 70s 602ms/step - loss: 1.7000 - acc: 0.4469 - val_loss: 1.6802 - val_acc: 0.4623\n",
            "Epoch 19/50\n",
            "116/116 [==============================] - 71s 615ms/step - loss: 1.6742 - acc: 0.4634 - val_loss: 1.7765 - val_acc: 0.4287\n",
            "Epoch 20/50\n",
            "116/116 [==============================] - 70s 607ms/step - loss: 1.6305 - acc: 0.4639 - val_loss: 1.6624 - val_acc: 0.4744\n",
            "Epoch 21/50\n",
            "116/116 [==============================] - 70s 605ms/step - loss: 1.6408 - acc: 0.4685 - val_loss: 1.5654 - val_acc: 0.5112\n",
            "Epoch 22/50\n",
            "116/116 [==============================] - 71s 613ms/step - loss: 1.5552 - acc: 0.4934 - val_loss: 1.6183 - val_acc: 0.4872\n",
            "Epoch 23/50\n",
            "116/116 [==============================] - 70s 606ms/step - loss: 1.5464 - acc: 0.5001 - val_loss: 1.6450 - val_acc: 0.4712\n",
            "Epoch 24/50\n",
            "116/116 [==============================] - 70s 606ms/step - loss: 1.5372 - acc: 0.4972 - val_loss: 1.5256 - val_acc: 0.5120\n",
            "Epoch 25/50\n",
            "116/116 [==============================] - 70s 605ms/step - loss: 1.4644 - acc: 0.5234 - val_loss: 1.5633 - val_acc: 0.5040\n",
            "Epoch 26/50\n",
            "116/116 [==============================] - 72s 618ms/step - loss: 1.4750 - acc: 0.5174 - val_loss: 1.5030 - val_acc: 0.5112\n",
            "Epoch 27/50\n",
            "116/116 [==============================] - 70s 607ms/step - loss: 1.4522 - acc: 0.5374 - val_loss: 1.5610 - val_acc: 0.5000\n",
            "Epoch 28/50\n",
            "116/116 [==============================] - 70s 607ms/step - loss: 1.4558 - acc: 0.5337 - val_loss: 1.4691 - val_acc: 0.5449\n",
            "Epoch 29/50\n",
            "116/116 [==============================] - 71s 610ms/step - loss: 1.3800 - acc: 0.5558 - val_loss: 1.4994 - val_acc: 0.5280\n",
            "Epoch 30/50\n",
            "116/116 [==============================] - 70s 603ms/step - loss: 1.3866 - acc: 0.5539 - val_loss: 1.5336 - val_acc: 0.5256\n",
            "Epoch 31/50\n",
            "116/116 [==============================] - 71s 608ms/step - loss: 1.3700 - acc: 0.5604 - val_loss: 1.5089 - val_acc: 0.5016\n",
            "Epoch 32/50\n",
            "116/116 [==============================] - 71s 612ms/step - loss: 1.3642 - acc: 0.5580 - val_loss: 1.4783 - val_acc: 0.5569\n",
            "Epoch 33/50\n",
            "116/116 [==============================] - 70s 605ms/step - loss: 1.3987 - acc: 0.5585 - val_loss: 1.5180 - val_acc: 0.5345\n",
            "Epoch 34/50\n",
            "116/116 [==============================] - 70s 603ms/step - loss: 1.3834 - acc: 0.5572 - val_loss: 1.3472 - val_acc: 0.5553\n",
            "Epoch 35/50\n",
            "116/116 [==============================] - 75s 646ms/step - loss: 1.2579 - acc: 0.5937 - val_loss: 1.3865 - val_acc: 0.5633\n",
            "Epoch 36/50\n",
            "116/116 [==============================] - 75s 647ms/step - loss: 1.2973 - acc: 0.5837 - val_loss: 1.3668 - val_acc: 0.5705\n",
            "Epoch 37/50\n",
            "116/116 [==============================] - 70s 606ms/step - loss: 1.2838 - acc: 0.5856 - val_loss: 1.5100 - val_acc: 0.5385\n",
            "Epoch 38/50\n",
            "116/116 [==============================] - 71s 612ms/step - loss: 1.3076 - acc: 0.5707 - val_loss: 1.4226 - val_acc: 0.5513\n",
            "Epoch 39/50\n",
            "116/116 [==============================] - 71s 609ms/step - loss: 1.2729 - acc: 0.5888 - val_loss: 1.4419 - val_acc: 0.5617\n",
            "Epoch 40/50\n",
            "116/116 [==============================] - 70s 606ms/step - loss: 1.2430 - acc: 0.6012 - val_loss: 1.4240 - val_acc: 0.5497\n",
            "Epoch 41/50\n",
            "116/116 [==============================] - 71s 611ms/step - loss: 1.2269 - acc: 0.6099 - val_loss: 1.4322 - val_acc: 0.5625\n",
            "Epoch 42/50\n",
            "116/116 [==============================] - 71s 609ms/step - loss: 1.2338 - acc: 0.6004 - val_loss: 1.4264 - val_acc: 0.5817\n",
            "Epoch 43/50\n",
            "116/116 [==============================] - 70s 604ms/step - loss: 1.2052 - acc: 0.6002 - val_loss: 1.4546 - val_acc: 0.5457\n",
            "Epoch 44/50\n",
            "116/116 [==============================] - 71s 614ms/step - loss: 1.1796 - acc: 0.6110 - val_loss: 1.3960 - val_acc: 0.5745\n",
            "Epoch 45/50\n",
            "116/116 [==============================] - 70s 605ms/step - loss: 1.1709 - acc: 0.6256 - val_loss: 1.4386 - val_acc: 0.5881\n",
            "Epoch 46/50\n",
            "116/116 [==============================] - 70s 603ms/step - loss: 1.1495 - acc: 0.6250 - val_loss: 1.3696 - val_acc: 0.5913\n",
            "Epoch 47/50\n",
            "116/116 [==============================] - 71s 611ms/step - loss: 1.1537 - acc: 0.6234 - val_loss: 1.4671 - val_acc: 0.5769\n",
            "Epoch 48/50\n",
            "116/116 [==============================] - 70s 604ms/step - loss: 1.1697 - acc: 0.6237 - val_loss: 1.3258 - val_acc: 0.6074\n",
            "Epoch 49/50\n",
            "116/116 [==============================] - 70s 602ms/step - loss: 1.1926 - acc: 0.6110 - val_loss: 1.5211 - val_acc: 0.5433\n",
            "Epoch 50/50\n",
            "116/116 [==============================] - 71s 608ms/step - loss: 1.1356 - acc: 0.6350 - val_loss: 1.3987 - val_acc: 0.6018\n"
          ]
        }
      ],
      "source": [
        "hist = model.fit(train_generator, validation_data=val_generator, epochs=epochs)"
      ]
    },
    {
      "cell_type": "markdown",
      "metadata": {
        "id": "ICR2wOFOCGU6"
      },
      "source": [
        "#Model evaluation"
      ]
    },
    {
      "cell_type": "markdown",
      "metadata": {
        "id": "hKpXKy-xCKdB"
      },
      "source": [
        "##trainigs history"
      ]
    },
    {
      "cell_type": "code",
      "execution_count": 25,
      "metadata": {
        "id": "ps0qAc7Qfw0U",
        "colab": {
          "base_uri": "https://localhost:8080/"
        },
        "outputId": "55990859-531e-47e6-9311-8c3161a6f4e5"
      },
      "outputs": [
        {
          "output_type": "stream",
          "name": "stdout",
          "text": [
            "test accuracy  0.6350364685058594\n"
          ]
        }
      ],
      "source": [
        "print (\"test accuracy \", hist.history['acc'][-1])"
      ]
    },
    {
      "cell_type": "markdown",
      "metadata": {
        "id": "-bIn2m-_gjsI"
      },
      "source": [
        "#validation history"
      ]
    },
    {
      "cell_type": "code",
      "execution_count": 26,
      "metadata": {
        "id": "ObgsLehPf73x",
        "colab": {
          "base_uri": "https://localhost:8080/"
        },
        "outputId": "a1ed6532-d327-4863-bb8f-20e9e95c0d1b"
      },
      "outputs": [
        {
          "output_type": "stream",
          "name": "stdout",
          "text": [
            "validation accuracy  0.6017628312110901\n"
          ]
        }
      ],
      "source": [
        "print (\"validation accuracy \", hist.history['val_acc'][-1])"
      ]
    },
    {
      "cell_type": "markdown",
      "metadata": {
        "id": "y7ONXeI8gp8w"
      },
      "source": [
        "#accuracy and loss plot"
      ]
    },
    {
      "cell_type": "code",
      "execution_count": 27,
      "metadata": {
        "id": "jbiShHjjFsgx",
        "colab": {
          "base_uri": "https://localhost:8080/",
          "height": 591
        },
        "outputId": "7bf90167-05c9-4311-c137-e5c371377608"
      },
      "outputs": [
        {
          "output_type": "stream",
          "name": "stdout",
          "text": [
            "dict_keys(['loss', 'acc', 'val_loss', 'val_acc'])\n"
          ]
        },
        {
          "output_type": "display_data",
          "data": {
            "text/plain": [
              "<Figure size 432x288 with 1 Axes>"
            ],
            "image/png": "[encoded data removed]"
          },
          "metadata": {
            "needs_background": "light"
          }
        },
        {
          "output_type": "display_data",
          "data": {
            "text/plain": [
              "<Figure size 432x288 with 1 Axes>"
            ],
            "image/png": "[encoded data removed]"
          },
          "metadata": {
            "needs_background": "light"
          }
        }
      ],
      "source": [
        "print(hist.history.keys())\n",
        "plot_accuracy_and_loss(hist)"
      ]
    },
    {
      "cell_type": "markdown",
      "metadata": {
        "id": "GFSgMxQ7iVEC"
      },
      "source": [
        "#Confusion matrix"
      ]
    },
    {
      "cell_type": "code",
      "source": [
        "def print_confusion_matrix(classes, val_generator):\n",
        "  Y_pred = model.predict_generator(val_generator)\n",
        "  y_pred = np.argmax(Y_pred, axis=1)\n",
        "  con_mat = confusion_matrix(val_generator.classes, y_pred)\n",
        "  print('Confusion Matrix')\n",
        "  print(con_mat)\n",
        "  print('Classification Report')\n",
        "  #print(classification_report(val_generator.classes, y_pred, target_names=val_generator.classes))\n",
        "\n",
        "  ## plot\n",
        "  sns.set_theme(style='darkgrid')\n",
        "\n",
        "  figure = plt.figure(figsize=(8, 8))\n",
        "  sns.heatmap(con_mat, annot=True,cmap=plt.cm.Dark2)\n",
        "  plt.tight_layout()\n",
        "  plt.ylabel('True label')\n",
        "  plt.xlabel('Predicted label')\n",
        "  plt.show()\n"
      ],
      "metadata": {
        "id": "EuY3695cHUxv"
      },
      "execution_count": 41,
      "outputs": []
    },
    {
      "cell_type": "code",
      "source": [
        "print_confusion_matrix(classes, val_generator)"
      ],
      "metadata": {
        "id": "qhjYaZD3HsNV",
        "colab": {
          "base_uri": "https://localhost:8080/",
          "height": 1000
        },
        "outputId": "f33ebc74-3934-4092-a107-5ff6c2bded4a"
      },
      "execution_count": 42,
      "outputs": [
        {
          "output_type": "stream",
          "name": "stderr",
          "text": [
            "/usr/local/lib/python3.7/dist-packages/ipykernel_launcher.py:2: UserWarning: `Model.predict_generator` is deprecated and will be removed in a future version. Please use `Model.predict`, which supports generators.\n",
            "  \n"
          ]
        },
        {
          "output_type": "stream",
          "name": "stdout",
          "text": [
            "Confusion Matrix\n",
            "[[ 2  3  4  0  2  3  2  2  2  0  2  1  0  1  0  0  1  0  2  2  0  2  1  0\n",
            "   2]\n",
            " [ 0  1  3  1  2  6  2  4  0  1  4  2  0  0  3  3  0  1  0  1  0  4  0  2\n",
            "   1]\n",
            " [ 2  6  6 11  1  8  6  1  0  0  2  8  4  5  1  4  0  0  1  5  5  5  2  6\n",
            "   4]\n",
            " [ 1  1  3  2  3  2  4  2  4  1  4  1  1  6  4  7  0  0  4  3  1  5  4  4\n",
            "   3]\n",
            " [ 1  2  3  1  2  5  3  4  0  0  3  3  1  4  1  0  0  0  1  1  2  1  3  2\n",
            "   3]\n",
            " [ 1  2  5  3  3 10  3  5  2  0  5  7  5  2  2  2  0  1  0  1  3  5  2  4\n",
            "   4]\n",
            " [ 2  6  6  3  3  8  2  2  0  0  2  3  5  4  1  1  0  1  0  2  7  4  0  5\n",
            "   8]\n",
            " [ 0  5  2  1  0  2  3  0  2  0  1  0  0  0  0  3  0  1  0  0  0  3  0  0\n",
            "   2]\n",
            " [ 2  1  2  1  1  0  2  2  1  0  1  0  0  3  1  0  0  1  0  3  1  2  2  2\n",
            "   0]\n",
            " [ 0  2  3  3  1  2  3  1  2  0  2  0  2  0  0  1  0  0  1  1  1  1  0  1\n",
            "   1]\n",
            " [ 2  4  8  0  1  3  1  2  1  1  1  2  2  5  1  0  0  1  2  2  2  1  2  2\n",
            "   1]\n",
            " [ 1  4  5  2  2  2  2  1  2  0  3  6  3  3  3  2  0  2  0  2  3  3  2  3\n",
            "   5]\n",
            " [ 0  5  5  4  2  7  6  2  1  1  1  7  2  7  0  3  0  1  0  4  4  4  1  5\n",
            "   4]\n",
            " [ 1  2  2  3  3  3  1  1  2  0  2  3  3  0  1  0  1  0  0  1  2  4  2  2\n",
            "   2]\n",
            " [ 2  2  3  0  1  1  2  1  2  0  3  5  1  1  2  2  1  1  2  2  1  0  1  3\n",
            "   3]\n",
            " [ 0  4  1  1  0  1  4  0  1  0  3  3  2  1  1  1  0  2  1  0  0  1  3  4\n",
            "   2]\n",
            " [ 0  2  1  3  5  2  4  1  0  0  0  1  2  3  1  0  0  1  1  2  3  4  2  2\n",
            "   3]\n",
            " [ 2  4  3  2  1  1  3  3  1  0  4  0  2  1  1  0  0  2  1  0  0  1  0  1\n",
            "   5]\n",
            " [ 0  4  5  2  2  7  1  3  0  0  4  2  4  1  1  1  0  1  1  2  1  1  0  2\n",
            "   0]\n",
            " [ 0  2  3  5  0  2  4  0  2  1  3  3  2  3  3  1  1  0  3  3  1  5  2  2\n",
            "   1]\n",
            " [ 1  0  2  1  1  0  2  0  0  0  3  1  0  1  3  1  0  0  0  2  3  0  0  5\n",
            "   4]\n",
            " [ 1  5  6  9  2  4  5  2  4  0  1  7  1  1  4  1  0  1  0  3  2  7  1  1\n",
            "   3]\n",
            " [ 1  2  4  4  3  3  3  1  1  0  1  4  1  2  0  2  1  4  0  1  1  1  0  0\n",
            "   3]\n",
            " [ 0  3  5  0  1  6  4  0  1  0  0  3  2  1  1  1  0  3  1  0  3  1  1  2\n",
            "   1]\n",
            " [ 0  4  3  5  1  5  7  3  0  0  2  5  4  5  1  2  0  1  1  4  1  5  1  4\n",
            "   2]]\n",
            "Classification Report\n"
          ]
        },
        {
          "output_type": "display_data",
          "data": {
            "text/plain": [
              "<Figure size 576x576 with 2 Axes>"
            ],
            "image/png": "[encoded data removed]"
          },
          "metadata": {}
        }
      ]
    },
    {
      "cell_type": "code",
      "execution_count": 30,
      "metadata": {
        "id": "cstg1F3Ukni7",
        "colab": {
          "base_uri": "https://localhost:8080/"
        },
        "outputId": "a6de3d03-ed9b-434c-8d2a-4e7ebdb8b7ca"
      },
      "outputs": [
        {
          "output_type": "stream",
          "name": "stdout",
          "text": [
            "INFO:tensorflow:Assets written to: saved_model/final_model_exp_2/assets\n"
          ]
        }
      ],
      "source": [
        "# Save the entire model as a SavedModel.\n",
        "!mkdir -p saved_model"
      ]
    },
    {
      "cell_type": "code",
      "source": [
        "model.save('saved_model/final_model_exp_2')"
      ],
      "metadata": {
        "colab": {
          "base_uri": "https://localhost:8080/"
        },
        "id": "CpgfePBuaQH3",
        "outputId": "1e50cb18-22b5-4a78-f6f0-fdc4f4152dd1"
      },
      "execution_count": 31,
      "outputs": [
        {
          "output_type": "stream",
          "name": "stdout",
          "text": [
            "INFO:tensorflow:Assets written to: saved_model/final_model_exp_2/assets\n"
          ]
        }
      ]
    },
    {
      "cell_type": "code",
      "source": [
        "custom_train_generator = keras.preprocessing.image.ImageDataGenerator()"
      ],
      "metadata": {
        "id": "LnnivDmGfcrA"
      },
      "execution_count": 36,
      "outputs": []
    },
    {
      "cell_type": "code",
      "source": [
        "custom_gen = custom_train_generator.flow_from_directory('./classes',\n",
        "                                                    target_size=(img_size, img_size),\n",
        "                                                    batch_size=batch_size,\n",
        "                                                    class_mode='categorical')"
      ],
      "metadata": {
        "colab": {
          "base_uri": "https://localhost:8080/"
        },
        "id": "JssR5j8bfqta",
        "outputId": "36a37dfd-ed8d-428d-c145-c23978959329"
      },
      "execution_count": 37,
      "outputs": [
        {
          "output_type": "stream",
          "name": "stdout",
          "text": [
            "Found 14 images belonging to 26 classes.\n"
          ]
        }
      ]
    },
    {
      "cell_type": "code",
      "source": [
        "print_confusion_matrix(classes, custom_gen)"
      ],
      "metadata": {
        "colab": {
          "base_uri": "https://localhost:8080/",
          "height": 939
        },
        "id": "NYJvUnnigB4e",
        "outputId": "25006b6e-8953-4ed4-da9b-c5133701bd2a"
      },
      "execution_count": 43,
      "outputs": [
        {
          "output_type": "stream",
          "name": "stderr",
          "text": [
            "/usr/local/lib/python3.7/dist-packages/ipykernel_launcher.py:2: UserWarning: `Model.predict_generator` is deprecated and will be removed in a future version. Please use `Model.predict`, which supports generators.\n",
            "  \n"
          ]
        },
        {
          "output_type": "stream",
          "name": "stdout",
          "text": [
            "Confusion Matrix\n",
            "[[0 0 0 0 0 0 0 0 0 0 0 0 0 0]\n",
            " [0 0 0 0 0 1 0 0 0 0 0 0 0 0]\n",
            " [0 0 0 0 0 0 0 0 0 0 0 0 0 0]\n",
            " [0 0 0 0 0 0 0 0 1 0 0 0 0 0]\n",
            " [0 0 0 1 1 1 0 0 0 0 0 0 0 0]\n",
            " [0 0 1 0 0 0 0 0 1 0 1 0 0 0]\n",
            " [0 0 1 0 0 0 0 0 0 0 0 1 0 0]\n",
            " [0 0 0 0 0 0 0 0 0 1 0 0 0 0]\n",
            " [0 0 0 0 0 0 0 0 0 0 0 0 0 0]\n",
            " [0 0 0 0 0 0 0 0 0 0 0 0 0 0]\n",
            " [0 0 0 0 0 0 0 0 0 0 0 0 0 0]\n",
            " [0 0 0 0 0 0 0 0 0 0 0 0 0 0]\n",
            " [0 1 0 0 0 0 0 0 0 0 0 0 0 0]\n",
            " [1 0 0 0 1 0 0 0 0 0 0 0 0 0]]\n",
            "Classification Report\n"
          ]
        },
        {
          "output_type": "display_data",
          "data": {
            "text/plain": [
              "<Figure size 576x576 with 2 Axes>"
            ],
            "image/png": "[encoded data removed]"
          },
          "metadata": {}
        }
      ]
    },
    {
      "cell_type": "code",
      "source": [
        ""
      ],
      "metadata": {
        "id": "ASyvgEQ8gJLC"
      },
      "execution_count": null,
      "outputs": []
    }
  ],
  "metadata": {
    "accelerator": "GPU",
    "colab": {
      "collapsed_sections": [],
      "name": "mai-computer-vision-experiment-2.ipynb",
      "provenance": [],
      "authorship_tag": "ABX9TyMMdCYahxfO11UpM28WrxNn",
      "include_colab_link": true
    },
    "kernelspec": {
      "display_name": "Python 3",
      "name": "python3"
    },
    "language_info": {
      "name": "python"
    }
  },
  "nbformat": 4,
  "nbformat_minor": 0
}